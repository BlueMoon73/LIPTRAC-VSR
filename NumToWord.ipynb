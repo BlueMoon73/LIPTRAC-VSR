{
 "cells": [
  {
   "cell_type": "code",
   "execution_count": null,
   "id": "initial_id",
   "metadata": {
    "collapsed": true
   },
   "outputs": [],
   "source": [
    ""
   ]
  },
  {
   "metadata": {
    "ExecuteTime": {
     "end_time": "2024-06-24T06:31:18.162076Z",
     "start_time": "2024-06-24T06:31:18.151570Z"
    }
   },
   "cell_type": "code",
   "source": [
    "def numberToWords(num):  \n",
    "    if num == 0:  \n",
    "        return \"zero\"  \n",
    "    ones = [\"\", \"one\", \"two\", \"three\", \"four\", \"five\", \"six\", \"seven\", \"eight\", \"nine\"]  \n",
    "    tens = [\"\", \"\", \"twenty\", \"thirty\", \"forty\", \"fifty\", \"sixty\", \"seventy\", \"eighty\", \"ninety\"]  \n",
    "    teens = [\"ten\", \"eleven\", \"twelve\", \"thirteen\", \"fourteen\", \"fifteen\", \"sixteen\", \"seventeen\", \"eighteen\", \"nineteen\"]  \n",
    "    words = \"\"  \n",
    "    if num>= 1000:  \n",
    "        words += ones[num // 1000] + \" thousand \"  \n",
    "        num %= 1000  \n",
    "    if num>= 100:  \n",
    "        words += ones[num // 100] + \" hundred \"  \n",
    "        num %= 100  \n",
    "    if num>= 10 and num<= 19:  \n",
    "        words += teens[num - 10] + \" \"  \n",
    "        num = 0  \n",
    "    elif num>= 20:  \n",
    "        words += tens[num // 10] + \" \"  \n",
    "        num %= 10  \n",
    "    if num>= 1 and num<= 9:  \n",
    "        words += ones[num] + \" \"  \n",
    "    return words.strip().upper()"
   ],
   "id": "7cd390aa2b1630ac",
   "outputs": [],
   "execution_count": 19
  },
  {
   "metadata": {
    "ExecuteTime": {
     "end_time": "2024-06-24T06:45:07.709329Z",
     "start_time": "2024-06-24T06:45:07.701822Z"
    }
   },
   "cell_type": "code",
   "source": [
    "n = 400\n",
    "numberToWords(n)"
   ],
   "id": "4de9a637e94317d1",
   "outputs": [
    {
     "data": {
      "text/plain": [
       "'FOUR HUNDRED'"
      ]
     },
     "execution_count": 25,
     "metadata": {},
     "output_type": "execute_result"
    }
   ],
   "execution_count": 25
  },
  {
   "metadata": {
    "ExecuteTime": {
     "end_time": "2024-06-24T06:46:11.388253Z",
     "start_time": "2024-06-24T06:46:11.379732Z"
    }
   },
   "cell_type": "code",
   "source": [
    "# words = \"I AM 400 YEARS OLD\"\n",
    "# for word in words:\n",
    "#     if word.isnumeric(): \n",
    "#         og \n",
    "#         print(numberToWords(400))\n",
    "        # word = numberToWords(int(word))\n",
    "    # print(word)"
   ],
   "id": "c07adbfcd431faa0",
   "outputs": [
    {
     "name": "stdout",
     "output_type": "stream",
     "text": [
      "1\n",
      "1\n",
      "1\n",
      "1\n",
      "1\n",
      "1\n",
      "1\n",
      "1\n",
      "1\n",
      "1\n",
      "1\n",
      "1\n",
      "1\n",
      "1\n",
      "1\n",
      "1\n",
      "1\n",
      "1\n"
     ]
    }
   ],
   "execution_count": 30
  },
  {
   "metadata": {
    "ExecuteTime": {
     "end_time": "2024-06-24T06:52:28.728678Z",
     "start_time": "2024-06-24T06:52:28.720452Z"
    }
   },
   "cell_type": "code",
   "source": [
    "words = \"300 500 6000\"\n",
    "split = words.split()\n",
    "for word in split: \n",
    "    if word.isnumeric():\n",
    "        newWord = numberToWords(int(word))\n",
    "        split[split.index(word)] = newWord\n",
    "words = \" \".join(split)\n",
    "words"
   ],
   "id": "74f70d0744657847",
   "outputs": [
    {
     "data": {
      "text/plain": [
       "'THREE HUNDRED FIVE HUNDRED SIX THOUSAND'"
      ]
     },
     "execution_count": 42,
     "metadata": {},
     "output_type": "execute_result"
    }
   ],
   "execution_count": 42
  },
  {
   "metadata": {
    "ExecuteTime": {
     "end_time": "2024-06-24T06:50:19.848407Z",
     "start_time": "2024-06-24T06:50:19.843393Z"
    }
   },
   "cell_type": "code",
   "source": "",
   "id": "3f2011e8940b788a",
   "outputs": [
    {
     "data": {
      "text/plain": [
       "'I AM FOUR HUNDRED YEARS OLD'"
      ]
     },
     "execution_count": 38,
     "metadata": {},
     "output_type": "execute_result"
    }
   ],
   "execution_count": 38
  },
  {
   "metadata": {},
   "cell_type": "code",
   "outputs": [],
   "execution_count": null,
   "source": "",
   "id": "9a79bb7c299913de"
  }
 ],
 "metadata": {
  "kernelspec": {
   "display_name": "Python 3",
   "language": "python",
   "name": "python3"
  },
  "language_info": {
   "codemirror_mode": {
    "name": "ipython",
    "version": 2
   },
   "file_extension": ".py",
   "mimetype": "text/x-python",
   "name": "python",
   "nbconvert_exporter": "python",
   "pygments_lexer": "ipython2",
   "version": "2.7.6"
  }
 },
 "nbformat": 4,
 "nbformat_minor": 5
}
