{
 "cells": [
  {
   "cell_type": "code",
   "id": "initial_id",
   "metadata": {
    "collapsed": true,
    "ExecuteTime": {
     "end_time": "2024-07-02T05:44:58.374573Z",
     "start_time": "2024-07-02T05:44:58.361057Z"
    }
   },
   "source": [
    "import shutil \n",
    "import os \n",
    "import random"
   ],
   "outputs": [],
   "execution_count": 15
  },
  {
   "metadata": {
    "ExecuteTime": {
     "end_time": "2024-07-02T06:04:35.591959Z",
     "start_time": "2024-07-02T06:04:35.583446Z"
    }
   },
   "cell_type": "code",
   "source": [
    "rootDir = 'A:\\Lip Reading\\Potential Datasets\\CondensedGrid\\\\allFiles'\n",
    "newDir = 'A:\\Lip Reading\\Potential Datasets\\CondensedGrid\\\\trainFiles1'\n"
   ],
   "id": "2a1ca6db409e7c2c",
   "outputs": [],
   "execution_count": 87
  },
  {
   "metadata": {
    "ExecuteTime": {
     "end_time": "2024-07-04T03:48:15.495244Z",
     "start_time": "2024-07-04T03:48:15.445926Z"
    }
   },
   "cell_type": "code",
   "source": [
    "def genTrainFileFolder(numFiles, newDir, rootDir, extensions): \n",
    "    counter = 0\n",
    "    for subdir, dirs, files in os.walk(rootDir):\n",
    "        while counter < numFiles:\n",
    "            randInt = random.randint(0, int(len(files)))\n",
    "            file1 = files[randInt]\n",
    "            \n",
    "            if file1.split('.')[1] == extensions[0].split('.')[1]:\n",
    "                file2 = files[randInt].split('.')[0] + extensions[1]\n",
    "            else: \n",
    "                file2 = files[randInt].split('.')[0] + extensions[0]\n",
    "    \n",
    "            # print(os.path.join(newDir, file2))\n",
    "           \n",
    "            shutil.copy2(os.path.join(subdir, file1), os.path.join(newDir, file1))\n",
    "            shutil.copy2(os.path.join(subdir, file2), os.path.join(newDir, file2))\n",
    "            counter += 2\n",
    "            "
   ],
   "id": "67f3ab36d6662df3",
   "outputs": [],
   "execution_count": 117
  },
  {
   "metadata": {
    "ExecuteTime": {
     "end_time": "2024-07-03T18:00:35.926994Z",
     "start_time": "2024-07-03T18:00:35.919484Z"
    }
   },
   "cell_type": "code",
   "source": "# genTrainFileFolder(numFiles= newFolder=newDir)        ",
   "id": "4f5998367836da04",
   "outputs": [],
   "execution_count": 114
  },
  {
   "metadata": {
    "ExecuteTime": {
     "end_time": "2024-07-04T03:48:53.453537Z",
     "start_time": "2024-07-04T03:48:53.434956Z"
    }
   },
   "cell_type": "code",
   "source": [
    "newD = \"A:\\Lip Reading\\Potential Datasets\\BBC LRS2\\\\trainFiles1\"\n",
    "rootD = \"A:\\Lip Reading\\Potential Datasets\\BBC LRS2\\\\allFiles\""
   ],
   "id": "beac68b18a0d3691",
   "outputs": [],
   "execution_count": 118
  },
  {
   "metadata": {
    "ExecuteTime": {
     "end_time": "2024-07-04T03:49:29.516109Z",
     "start_time": "2024-07-04T03:49:16.167841Z"
    }
   },
   "cell_type": "code",
   "source": "genTrainFileFolder(numFiles=2300, newDir=newD, rootDir=rootD, extensions=['.mp4', '.txt'])",
   "id": "e95f63154f4ddf66",
   "outputs": [],
   "execution_count": 120
  },
  {
   "metadata": {},
   "cell_type": "code",
   "outputs": [],
   "execution_count": null,
   "source": "",
   "id": "f46a1194152ade07"
  }
 ],
 "metadata": {
  "kernelspec": {
   "display_name": "Python 3",
   "language": "python",
   "name": "python3"
  },
  "language_info": {
   "codemirror_mode": {
    "name": "ipython",
    "version": 2
   },
   "file_extension": ".py",
   "mimetype": "text/x-python",
   "name": "python",
   "nbconvert_exporter": "python",
   "pygments_lexer": "ipython2",
   "version": "2.7.6"
  }
 },
 "nbformat": 4,
 "nbformat_minor": 5
}
