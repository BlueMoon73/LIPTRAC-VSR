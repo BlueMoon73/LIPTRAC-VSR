{
 "cells": [
  {
   "cell_type": "code",
   "id": "initial_id",
   "metadata": {
    "collapsed": true,
    "ExecuteTime": {
     "end_time": "2024-06-20T23:48:32.522647Z",
     "start_time": "2024-06-20T23:48:29.480572Z"
    }
   },
   "source": [
    "# imports \n",
    "import os \n",
    "import tensorflow as tf \n",
    "import cv2 \n",
    "import numpy\n",
    "from matplotlib import pyplot as plt\n",
    "\n",
    "# making GPU be used, and setting memory limits\n",
    "memoryLimit = 1024 * 7 \n",
    "gpus = tf.config.list_physical_devices('GPU')\n",
    "if gpus:\n",
    "    try:\n",
    "        tf.config.set_logical_device_configuration(\n",
    "            gpus[0],\n",
    "            [tf.config.LogicalDeviceConfiguration(memory_limit=memoryLimit)])\n",
    "        logical_gpus = tf.config.list_logical_devices('GPU')\n",
    "        print(len(gpus), \"Physical GPUs,\", len(logical_gpus), \"Logical GPUs\")\n",
    "    except RuntimeError as e:\n",
    "        # Virtual devices must be set before GPUs have been initialized\n",
    "        print(e)\n"
   ],
   "outputs": [
    {
     "name": "stdout",
     "output_type": "stream",
     "text": [
      "1 Physical GPUs, 1 Logical GPUs\n"
     ]
    }
   ],
   "execution_count": 2
  },
  {
   "metadata": {},
   "cell_type": "markdown",
   "source": "## basic functions",
   "id": "7c48bcf107f4c31b"
  },
  {
   "metadata": {
    "ExecuteTime": {
     "end_time": "2024-06-21T00:00:57.141144Z",
     "start_time": "2024-06-21T00:00:57.112125Z"
    }
   },
   "cell_type": "code",
   "source": [
    "# setting up the functions to convert from chars to num and vice versa\n",
    "vocab = [x for x in \"ABCDEFGHIJKLMNOPQRSTUVWXYZ'?!123456789 \"]\n",
    "charToNum = tf.keras.layers.StringLookup(vocabulary=vocab, oov_token=\"\")\n",
    "numToChar = tf.keras.layers.StringLookup(vocabulary=charToNum.get_vocabulary(), oov_token=\"\", invert=True)\n",
    "\n",
    "# facial detection vars \n",
    "faceCascade = cv2.CascadeClassifier('haarcascade_frontalface_default.xml')\n",
    "lastKnownCrop = (0, 0, 256, 250)\n",
    "\n",
    "# data dir\n",
    "rootDir = 'A:\\Lip Reading\\Potential Datasets\\BBC LRS2\\mvlrs_v1\\main'\n",
    "\n",
    "batchSize = 2"
   ],
   "id": "787272fefa6ec811",
   "outputs": [],
   "execution_count": 38
  },
  {
   "metadata": {
    "ExecuteTime": {
     "end_time": "2024-06-21T00:00:57.326857Z",
     "start_time": "2024-06-21T00:00:57.321340Z"
    }
   },
   "cell_type": "code",
   "source": [
    "def faceDetection(img):\n",
    "    # TROUBLESHOOTING\n",
    "    # print(\"max size:\",img.shape, img.shape[0] - 3 * padding, img.shape[1] - 3 * padding)\n",
    "    return faceCascade.detectMultiScale(\n",
    "        img,\n",
    "        scaleFactor=1.3,\n",
    "        minNeighbors=5,\n",
    "        minSize=(30, 30),\n",
    "    )\n",
    "\n",
    "def cropForMouth(img) -> numpy.ndarray:\n",
    "    global lastKnownCrop\n",
    "    rects = faceDetection(cv2.cvtColor(img, cv2.COLOR_BGR2GRAY))\n",
    "    \n",
    "    # finding the largest face in a given image \n",
    "    largestFace = (0,0,0,0)\n",
    "    for (x, y, w, l) in rects:\n",
    "        if (w * l) > largestFace[2] * largestFace[3]:\n",
    "            largestFace = (x, y,w,l)\n",
    "        \n",
    "    if largestFace == (0,0,0,0):\n",
    "        largestFace =lastKnownCrop\n",
    "    # cropping for face \n",
    "    lastKnownCrop = largestFace\n",
    "    y1 = lastKnownCrop[1] \n",
    "    x1 = lastKnownCrop[0]\n",
    "    y2 = y1 + lastKnownCrop[3] \n",
    "    x2 = x1 + lastKnownCrop[2]\n",
    "    return img[y1 + int(0.65 * lastKnownCrop[3]): y2, x1 + int(0.05 * lastKnownCrop[2]): int(0.95 * x2)]"
   ],
   "id": "c2e49edea7bd4712",
   "outputs": [],
   "execution_count": 39
  },
  {
   "metadata": {
    "ExecuteTime": {
     "end_time": "2024-06-21T00:00:57.512386Z",
     "start_time": "2024-06-21T00:00:57.503875Z"
    }
   },
   "cell_type": "code",
   "source": [
    "def loadData(path): \n",
    "    # tf has the paths as bytes so decode that\n",
    "    path = bytes.decode(path.numpy())\n",
    "    \n",
    "    # extract just the file names\n",
    "    global rootDir\n",
    "    fileName = path.split('\\\\')[-1].split('.')[0]\n",
    "    fileFolder = path.split('\\\\')[-2]\n",
    "    # generate the respective paths of the data\n",
    "    videoPath = os.path.join(rootDir,fileFolder,f'{fileName}.mp4')\n",
    "    alignmentPath = os.path.join(rootDir,fileFolder,f'{fileName}.txt')\n",
    "    \n",
    "    # return the frames and alignments\n",
    "    frames = loadVideo(videoPath) \n",
    "    alignments = loadText(alignmentPath)\n",
    "    return frames, alignments\n",
    "\n",
    "def loadVideo(path): \n",
    "    cap = cv2.VideoCapture(path)\n",
    "    global lastKnownCrop\n",
    "    processedFrames = []\n",
    "    \n",
    "    # for each frame \n",
    "    for n in range(int(cap.get(cv2.CAP_PROP_FRAME_COUNT))): \n",
    "        ret, frame = cap.read()\n",
    "        \n",
    "        # in case a frame is missing, just continue\n",
    "        if frame is None or frame.shape[0] == 0: \n",
    "            continue\n",
    "        \n",
    "        # crop only the mout like we'll do on the RPI \n",
    "        frame = cropForMouth(frame)\n",
    "        frame = cv2.resize(frame, (150, 50))\n",
    "        \n",
    "        try: frame = tf.image.rgb_to_grayscale(frame)\n",
    "        except: continue\n",
    "    \n",
    "        processedFrames.append(frame)\n",
    "    cap.release()\n",
    "\n",
    "    # generate the normalized frames (deviation from the average) \n",
    "    mean = tf.math.reduce_mean(processedFrames, keepdims=True)\n",
    "    std = tf.math.reduce_std(tf.cast(processedFrames, tf.float32), axis=[0, 1, 2], keepdims=True)\n",
    "    frames = tf.cast(processedFrames, tf.float32)\n",
    "    normalizedFrames = (tf.cast(frames, tf.float32) - tf.cast(mean, tf.float32)) / tf.cast(std, tf.float32)\n",
    "\n",
    "    return normalizedFrames\n",
    "\n",
    "def loadText(path): \n",
    "    # open and parse the file \n",
    "    with open(path, 'r') as file: lines = file.readlines()\n",
    "    file.close()\n",
    "    \n",
    "    # return the number equivalent of each of the characters of the word \n",
    "    tokens = []\n",
    "    words = lines[0].split()\n",
    "    del words[0]\n",
    "    for word in words: tokens = [*tokens,' ', word]\n",
    "    \n",
    "    return charToNum(tf.reshape(tf.strings.unicode_split(tokens, input_encoding='UTF-8'), (-1)))[1:]   \n",
    "\n",
    "def processData(path): \n",
    "    return tf.py_function(loadData, [path],  (tf.float32, tf.int64))"
   ],
   "id": "c7fbad6e80991f3c",
   "outputs": [],
   "execution_count": 40
  },
  {
   "metadata": {
    "ExecuteTime": {
     "end_time": "2024-06-21T00:00:57.699786Z",
     "start_time": "2024-06-21T00:00:57.694787Z"
    }
   },
   "cell_type": "code",
   "source": [
    "def getFrameCount(path) -> int: \n",
    "    cap = cv2.VideoCapture(path)\n",
    "    frameCount = cap.get(cv2.CAP_PROP_FRAME_COUNT)\n",
    "    cap.release()\n",
    "    return frameCount\n",
    "def getCharCount(path) -> int: \n",
    "    return len(loadText(path))\n",
    "#     "
   ],
   "id": "a401cd6fa0067aed",
   "outputs": [],
   "execution_count": 41
  },
  {
   "metadata": {
    "ExecuteTime": {
     "end_time": "2024-06-21T00:00:58.226695Z",
     "start_time": "2024-06-21T00:00:57.855044Z"
    }
   },
   "cell_type": "code",
   "source": [
    "rawPath = \"A:\\\\Lip Reading\\\\Potential Datasets\\\\BBC LRS2\\\\mvlrs_v1\\\\main\\\\5535415699068794046\\\\00001.mp4\"\n",
    "tensorPath = tf.convert_to_tensor(rawPath, dtype=tf.string)\n",
    "path = bytes.decode(tensorPath.numpy())\n",
    "\n",
    "fileName = path.split('\\\\')[-1].split('.')[0]\n",
    "fileFolder = path.split('\\\\')[-2]\n",
    "\n",
    "# testing if the loadData, loadVideo, and loadText function all work|\n",
    "videoPath = os.path.join(rootDir,fileFolder,f'{fileName}.mp4')\n",
    "alignmentPath = os.path.join(rootDir,fileFolder,f'{fileName}.txt')\n",
    "loadVideo(videoPath)\n",
    "loadText(alignmentPath)\n",
    "\n",
    "frames, text = loadData(tensorPath)"
   ],
   "id": "1dc8265fa1dc4688",
   "outputs": [],
   "execution_count": 42
  },
  {
   "metadata": {
    "ExecuteTime": {
     "end_time": "2024-06-21T00:00:58.242202Z",
     "start_time": "2024-06-21T00:00:58.227689Z"
    }
   },
   "cell_type": "code",
   "source": [
    "# finding the max number of frames & chars in a certain video \n",
    "frameCt = []\n",
    "charCt = []\n",
    "# iterating through each file in the root folder\n",
    "# for subdir, dirs, files in os.walk(rootDir):\n",
    "#     for file in files:\n",
    "#         if file.split('.')[1] == \"mp4\": frameCt.append(getFrameCount(os.path.join(subdir, file)))\n",
    "#         if file.split('.')[1] == \"txt\": charCt.append(getCharCount(os.path.join(subdir, file)))\n",
    "# print(\"frameCt\", max(frameCt))\n",
    "# print(\"charCt\", max(charCt))\n",
    "#         print(os.path.join(subdir, file))"
   ],
   "id": "2b1d7db6a260fd2",
   "outputs": [],
   "execution_count": 43
  },
  {
   "metadata": {
    "ExecuteTime": {
     "end_time": "2024-06-21T00:00:58.257809Z",
     "start_time": "2024-06-21T00:00:58.243705Z"
    }
   },
   "cell_type": "code",
   "source": [
    "maxframeCt = 154\n",
    "maxCharCt = 99"
   ],
   "id": "c3eb3b5798d815d9",
   "outputs": [],
   "execution_count": 44
  },
  {
   "metadata": {},
   "cell_type": "markdown",
   "source": "## reading data",
   "id": "b323b3673a461c65"
  },
  {
   "metadata": {
    "ExecuteTime": {
     "end_time": "2024-06-21T00:01:06.871656Z",
     "start_time": "2024-06-21T00:00:58.509543Z"
    }
   },
   "cell_type": "code",
   "source": [
    "# reading all files within the root directory\n",
    "data = tf.data.Dataset.list_files('A:\\Lip Reading\\Potential Datasets\\BBC LRS2\\mvlrs_v1\\main\\*\\*.mp4')\n",
    "\n",
    "data = data.shuffle(1500, reshuffle_each_iteration=False) # shuffling data\n",
    "data = data.map(processData) # \"processing\" the data to obtain frames and the respective text \n",
    "\n",
    "dim1 = frames.shape[1]\n",
    "dim2 = frames.shape[2]\n",
    "print(\"dataset size before padding:\", len(data))\n",
    "print(\"data shape of example video:\", frames.shape)\n",
    "\n",
    "# combining 8 videos as one \"input\"\n",
    "# ensuring all videos are padded to match the longest video, \n",
    "# ensuring the length of all the alignments is the size of the longest text characters, as some are lower. \n",
    "data = data.padded_batch(batchSize, padded_shapes=([maxframeCt,dim1, dim2,1], [maxCharCt])) \n",
    "data = data.prefetch(tf.data.AUTOTUNE)\n",
    "print(\"data length after padding:\", len(data))\n",
    "\n",
    "trainThreshold = int(0.04 * len(data))\n",
    "testThreshold = int(0.99 * len(data))\n",
    "train = data.take(trainThreshold)\n",
    "test = data.skip(testThreshold)\n",
    "print(\"testing data size:\", trainThreshold*batchSize)"
   ],
   "id": "15d040463f02dc61",
   "outputs": [
    {
     "name": "stdout",
     "output_type": "stream",
     "text": [
      "dataset size before padding: 48165\n",
      "data shape of example video: (35, 50, 150, 1)\n",
      "data length after padding: 24083\n",
      "testing data size: 1926\n"
     ]
    }
   ],
   "execution_count": 45
  },
  {
   "metadata": {
    "ExecuteTime": {
     "end_time": "2024-06-21T00:01:07.730378Z",
     "start_time": "2024-06-21T00:01:06.873656Z"
    }
   },
   "cell_type": "code",
   "source": [
    "val = data.as_numpy_iterator().next()[0]\n",
    "plt.imshow(val[0][0])\n",
    "print(len(val[0]))"
   ],
   "id": "771515f5cef4617f",
   "outputs": [
    {
     "name": "stdout",
     "output_type": "stream",
     "text": [
      "154\n"
     ]
    },
    {
     "data": {
      "text/plain": [
       "<Figure size 640x480 with 1 Axes>"
      ],
      "image/png": "[encoded data removed]"
     },
     "metadata": {},
     "output_type": "display_data"
    }
   ],
   "execution_count": 46
  },
  {
   "metadata": {},
   "cell_type": "markdown",
   "source": "## designing the model",
   "id": "7b9fe2e89759a25"
  },
  {
   "metadata": {
    "ExecuteTime": {
     "end_time": "2024-06-21T00:01:07.745402Z",
     "start_time": "2024-06-21T00:01:07.732380Z"
    }
   },
   "cell_type": "code",
   "source": [
    "# imports for the model architecture \n",
    "from tensorflow.keras import Sequential\n",
    "from tensorflow.keras.layers import Conv3D, LSTM, Dense, Dropout, Bidirectional, MaxPooling3D, Activation, Reshape, SpatialDropout3D,BatchNormalization, TimeDistributed, Flatten\n",
    "from tensorflow.keras.optimizers import Adam\n",
    "from tensorflow.python.keras.callbacks import ModelCheckpoint, LearningRateScheduler"
   ],
   "id": "44de38608ebec792",
   "outputs": [],
   "execution_count": 47
  },
  {
   "metadata": {
    "ExecuteTime": {
     "end_time": "2024-06-21T00:01:08.432251Z",
     "start_time": "2024-06-21T00:01:07.747403Z"
    }
   },
   "cell_type": "code",
   "source": [
    "inputShape = data.as_numpy_iterator().next()[0][0].shape\n",
    "print(inputShape)"
   ],
   "id": "a4e35802d732d3c6",
   "outputs": [
    {
     "name": "stdout",
     "output_type": "stream",
     "text": [
      "(154, 50, 150, 1)\n"
     ]
    }
   ],
   "execution_count": 48
  },
  {
   "metadata": {
    "ExecuteTime": {
     "end_time": "2024-06-21T00:01:09.822331Z",
     "start_time": "2024-06-21T00:01:08.433758Z"
    }
   },
   "cell_type": "code",
   "source": [
    "# model to be actually trained\n",
    "model = Sequential([\n",
    "Conv3D(128, 3, input_shape=inputShape, padding='same', activation='relu'),\n",
    "MaxPooling3D((1,3,5)),\n",
    "\n",
    "Conv3D(256, 3, padding='same', activation='relu'),\n",
    "MaxPooling3D((1,3,5)),\n",
    "\n",
    "Conv3D(154, 3, padding='same', activation='relu'),\n",
    "MaxPooling3D((1,3,5)),\n",
    "\n",
    "TimeDistributed(Flatten()),\n",
    "\n",
    "Bidirectional(LSTM(128, return_sequences=True)),\n",
    "Dropout(.5),\n",
    "\n",
    "Bidirectional(LSTM(128,  return_sequences=True)),\n",
    "Dropout(.5),\n",
    "\n",
    "Dense(charToNum.vocabulary_size()+1, kernel_initializer='he_normal', activation='softmax')\n",
    "])\n",
    "\n",
    "# model to be actually trained\n",
    "model3 = Sequential([\n",
    "Conv3D(32, 3, input_shape=inputShape, padding='same', activation='relu'),\n",
    "MaxPooling3D((1,2,2)),\n",
    "\n",
    "Conv3D(64, 3, input_shape=inputShape, padding='same', activation='relu'),\n",
    "MaxPooling3D((1,2,2)),\n",
    "\n",
    "Conv3D(154, 3, padding='same', activation='relu'),\n",
    "MaxPooling3D((1,2,2)),\n",
    "\n",
    "TimeDistributed(Flatten()),\n",
    "\n",
    "Bidirectional(LSTM(64, return_sequences=True)),\n",
    "Dropout(0.5),\n",
    "\n",
    "Bidirectional(LSTM(64, return_sequences=True)),\n",
    "Dropout(0.5),\n",
    "\n",
    "Dense(charToNum.vocabulary_size()+1, activation='softmax')\n",
    "])"
   ],
   "id": "84706072692f52d9",
   "outputs": [],
   "execution_count": 49
  },
  {
   "metadata": {
    "ExecuteTime": {
     "end_time": "2024-06-21T00:01:09.853941Z",
     "start_time": "2024-06-21T00:01:09.822331Z"
    }
   },
   "cell_type": "code",
   "source": "model.summary()",
   "id": "d728bc2771721d6c",
   "outputs": [
    {
     "name": "stdout",
     "output_type": "stream",
     "text": [
      "Model: \"sequential_4\"\n",
      "_________________________________________________________________\n",
      " Layer (type)                Output Shape              Param #   \n",
      "=================================================================\n",
      " conv3d_12 (Conv3D)          (None, 154, 50, 150, 128  3584      \n",
      "                             )                                   \n",
      "                                                                 \n",
      " max_pooling3d_12 (MaxPoolin  (None, 154, 16, 30, 128)  0        \n",
      " g3D)                                                            \n",
      "                                                                 \n",
      " conv3d_13 (Conv3D)          (None, 154, 16, 30, 256)  884992    \n",
      "                                                                 \n",
      " max_pooling3d_13 (MaxPoolin  (None, 154, 5, 6, 256)   0         \n",
      " g3D)                                                            \n",
      "                                                                 \n",
      " conv3d_14 (Conv3D)          (None, 154, 5, 6, 154)    1064602   \n",
      "                                                                 \n",
      " max_pooling3d_14 (MaxPoolin  (None, 154, 1, 1, 154)   0         \n",
      " g3D)                                                            \n",
      "                                                                 \n",
      " time_distributed_4 (TimeDis  (None, 154, 154)         0         \n",
      " tributed)                                                       \n",
      "                                                                 \n",
      " bidirectional_8 (Bidirectio  (None, 154, 256)         289792    \n",
      " nal)                                                            \n",
      "                                                                 \n",
      " dropout_8 (Dropout)         (None, 154, 256)          0         \n",
      "                                                                 \n",
      " bidirectional_9 (Bidirectio  (None, 154, 256)         394240    \n",
      " nal)                                                            \n",
      "                                                                 \n",
      " dropout_9 (Dropout)         (None, 154, 256)          0         \n",
      "                                                                 \n",
      " dense_4 (Dense)             (None, 154, 41)           10537     \n",
      "                                                                 \n",
      "=================================================================\n",
      "Total params: 2,647,747\n",
      "Trainable params: 2,647,747\n",
      "Non-trainable params: 0\n",
      "_________________________________________________________________\n"
     ]
    }
   ],
   "execution_count": 50
  },
  {
   "metadata": {
    "ExecuteTime": {
     "end_time": "2024-06-21T00:01:09.869349Z",
     "start_time": "2024-06-21T00:01:09.854837Z"
    }
   },
   "cell_type": "code",
   "source": [
    "# custom functions \n",
    "def scheduler(epoch, lr):\n",
    "    if epoch < 30:\n",
    "        return lr\n",
    "    else:\n",
    "        return lr * tf.math.exp(-0.1)\n",
    "# custom loss function \n",
    "def CTCLoss(y_true, y_pred):\n",
    "    batch_len = tf.cast(tf.shape(y_true)[0], dtype=\"int64\")\n",
    "    input_length = tf.cast(tf.shape(y_pred)[1], dtype=\"int64\")\n",
    "    label_length = tf.cast(tf.shape(y_true)[1], dtype=\"int64\")\n",
    "\n",
    "    input_length = input_length * tf.ones(shape=(batch_len, 1), dtype=\"int64\")\n",
    "    label_length = label_length * tf.ones(shape=(batch_len, 1), dtype=\"int64\")\n",
    "\n",
    "    loss = tf.keras.backend.ctc_batch_cost(y_true, y_pred, input_length, label_length)\n",
    "    return loss\n",
    "\n",
    "class ProduceExample(tf.keras.callbacks.Callback): \n",
    "    def __init__(self, dataset) -> None: \n",
    "        self.dataset = dataset.as_numpy_iterator()\n",
    "    \n",
    "    def on_epoch_end(self, epoch, logs=None) -> None:\n",
    "        data = self.dataset.next()\n",
    "        yhat = self.model.predict(data[0])\n",
    "        \n",
    "        decoded = tf.keras.backend.ctc_decode(yhat, [maxframeCt,maxframeCt], greedy=False)[0][0].numpy()\n",
    "        for x in range(len(yhat)):           \n",
    "            print('Original:', tf.strings.reduce_join(numToChar(data[1][x])).numpy().decode('utf-8'))\n",
    "            print('Prediction:', tf.strings.reduce_join(numToChar(decoded[x])).numpy().decode('utf-8'))\n",
    "            print('~'*100)"
   ],
   "id": "9cd1b05996f23f8e",
   "outputs": [],
   "execution_count": 51
  },
  {
   "metadata": {
    "ExecuteTime": {
     "end_time": "2024-06-21T00:01:09.900903Z",
     "start_time": "2024-06-21T00:01:09.870350Z"
    }
   },
   "cell_type": "code",
   "source": [
    "model.compile(optimizer=Adam(learning_rate=0.0005), loss=CTCLoss)\n",
    "checkpointCallback = ModelCheckpoint('newLipModel.weights.h5', monitor='loss',save_weights_only=False) \n",
    "scheduleCallback = LearningRateScheduler(scheduler)\n",
    "exampleCallback = ProduceExample(test)"
   ],
   "id": "f92dcff213216a6f",
   "outputs": [],
   "execution_count": 52
  },
  {
   "metadata": {
    "jupyter": {
     "is_executing": true
    },
    "ExecuteTime": {
     "start_time": "2024-06-21T00:01:09.901903Z"
    }
   },
   "cell_type": "code",
   "source": "model.fit(train, validation_data=test, epochs=100, callbacks=[checkpointCallback, scheduleCallback, exampleCallback])",
   "id": "441f0789798741da",
   "outputs": [
    {
     "name": "stdout",
     "output_type": "stream",
     "text": [
      "Epoch 1/100\n",
      "916/963 [===========================>..] - ETA: 34s - loss: inf"
     ]
    }
   ],
   "execution_count": null
  },
  {
   "metadata": {
    "jupyter": {
     "is_executing": true
    }
   },
   "cell_type": "code",
   "source": "",
   "id": "86bd0b659e165999",
   "outputs": [],
   "execution_count": null
  }
 ],
 "metadata": {
  "kernelspec": {
   "display_name": "Python 3",
   "language": "python",
   "name": "python3"
  },
  "language_info": {
   "codemirror_mode": {
    "name": "ipython",
    "version": 2
   },
   "file_extension": ".py",
   "mimetype": "text/x-python",
   "name": "python",
   "nbconvert_exporter": "python",
   "pygments_lexer": "ipython2",
   "version": "2.7.6"
  }
 },
 "nbformat": 4,
 "nbformat_minor": 5
}
