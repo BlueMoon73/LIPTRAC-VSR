{
 "cells": [
  {
   "cell_type": "code",
   "id": "initial_id",
   "metadata": {
    "collapsed": true,
    "ExecuteTime": {
     "end_time": "2024-06-19T23:42:57.933867Z",
     "start_time": "2024-06-19T23:42:57.918632Z"
    }
   },
   "source": [
    "# imports \n",
    "import os \n",
    "import tensorflow as tf \n",
    "import cv2 \n",
    "from matplotlib import pyplot as plt\n",
    "\n",
    "# setting GPU to be the device \n",
    "gpus = tf.config.list_physical_devices('GPU')\n",
    "tf.config.experimental.set_memory_growth(gpus[0], True)"
   ],
   "outputs": [],
   "execution_count": 15
  },
  {
   "metadata": {},
   "cell_type": "markdown",
   "source": "## basic functions",
   "id": "7c48bcf107f4c31b"
  },
  {
   "metadata": {
    "ExecuteTime": {
     "end_time": "2024-06-19T23:42:58.603093Z",
     "start_time": "2024-06-19T23:42:58.567821Z"
    }
   },
   "cell_type": "code",
   "source": [
    "# setting up the functions to convert from chars to num and vice versa\n",
    "vocab = [x for x in \"abcdefghijklmnopqrstuvwxyz'?!123456789 \"]\n",
    "charToNum = tf.keras.layers.StringLookup(vocabulary=vocab, oov_token=\"\")\n",
    "numToChar = tf.keras.layers.StringLookup(vocabulary=charToNum.get_vocabulary(), oov_token=\"\", invert=True)\n",
    "\n",
    "# facial detection vars \n",
    "faceCascade = cv2.CascadeClassifier('haarcascade_frontalface_default.xml')\n",
    "lastKnownCrop"
   ],
   "id": "787272fefa6ec811",
   "outputs": [
    {
     "ename": "NameError",
     "evalue": "name 'lastKnownCrop' is not defined",
     "output_type": "error",
     "traceback": [
      "\u001B[1;31m---------------------------------------------------------------------------\u001B[0m",
      "\u001B[1;31mNameError\u001B[0m                                 Traceback (most recent call last)",
      "Cell \u001B[1;32mIn[16], line 8\u001B[0m\n\u001B[0;32m      6\u001B[0m \u001B[38;5;66;03m# facial detection vars \u001B[39;00m\n\u001B[0;32m      7\u001B[0m faceCascade \u001B[38;5;241m=\u001B[39m cv2\u001B[38;5;241m.\u001B[39mCascadeClassifier(\u001B[38;5;124m'\u001B[39m\u001B[38;5;124mhaarcascade_frontalface_default.xml\u001B[39m\u001B[38;5;124m'\u001B[39m)\n\u001B[1;32m----> 8\u001B[0m \u001B[43mlastKnownCrop\u001B[49m\n",
      "\u001B[1;31mNameError\u001B[0m: name 'lastKnownCrop' is not defined"
     ]
    }
   ],
   "execution_count": 16
  },
  {
   "metadata": {
    "ExecuteTime": {
     "end_time": "2024-06-19T23:38:27.396143Z",
     "start_time": "2024-06-19T23:38:27.390848Z"
    }
   },
   "cell_type": "code",
   "source": [
    "def faceDetection(img):\n",
    "    # TROUBLESHOOTING\n",
    "    # print(\"max size:\",img.shape, img.shape[0] - 3 * padding, img.shape[1] - 3 * padding)\n",
    "    return faceCascade.detectMultiScale(\n",
    "        img,\n",
    "        scaleFactor=1.3,\n",
    "        minNeighbors=5,\n",
    "        minSize=(30, 30),\n",
    "    )\n",
    "def cropForFace(img):\n",
    "    global lastKnownCrop\n",
    "    rects = faceDetection(cv2.cvtColor(img, cv2.COLOR_BGR2GRAY))\n",
    "    # TO DO \n",
    "    # ADD ERROR HANDLING FOR IF THERE IS MULTIPLE FACES\n",
    "    for (x,y,w,l) in rects: \n",
    "        # TROUBLESHOOTING\n",
    "        # print(img.shape, x,y,w,l)\n",
    "        lastKnownCrop = (x,y,w,l)\n",
    "    y1 = lastKnownCrop[1] \n",
    "    x1 = lastKnownCrop[0]\n",
    "    y2 = y1 + lastKnownCrop[3] \n",
    "    x2 = x1 + lastKnownCrop[2]\n",
    "    return img[y1:y2, x1:x2]"
   ],
   "id": "c2e49edea7bd4712",
   "outputs": [],
   "execution_count": 13
  },
  {
   "metadata": {},
   "cell_type": "code",
   "outputs": [],
   "execution_count": null,
   "source": "",
   "id": "54556bdb8afacdd"
  }
 ],
 "metadata": {
  "kernelspec": {
   "display_name": "Python 3",
   "language": "python",
   "name": "python3"
  },
  "language_info": {
   "codemirror_mode": {
    "name": "ipython",
    "version": 2
   },
   "file_extension": ".py",
   "mimetype": "text/x-python",
   "name": "python",
   "nbconvert_exporter": "python",
   "pygments_lexer": "ipython2",
   "version": "2.7.6"
  }
 },
 "nbformat": 4,
 "nbformat_minor": 5
}
