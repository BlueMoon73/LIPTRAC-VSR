{
 "cells": [
  {
   "cell_type": "code",
   "id": "initial_id",
   "metadata": {
    "ExecuteTime": {
     "end_time": "2024-06-24T06:15:43.868167Z",
     "start_time": "2024-06-24T06:15:43.854655Z"
    }
   },
   "source": [
    "# imports \n",
    "import os \n",
    "import tensorflow as tf \n",
    "import cv2 \n",
    "import numpy\n",
    "from matplotlib import pyplot as plt\n",
    "\n",
    "# making GPU be used, and setting memory limits\n",
    "gpus = tf.config.list_physical_devices('GPU')\n",
    "# gpus = tf.config.list_logical_devices('GPU')\n",
    "print(gpus)\n",
    "try:\n",
    "    tf.config.experimental.set_memory_growth(gpus[0], True)\n",
    "    print(\"gpu set\")\n",
    "except:\n",
    "    pass\n",
    "    print(\"failed\")\n"
   ],
   "outputs": [
    {
     "name": "stdout",
     "output_type": "stream",
     "text": [
      "[PhysicalDevice(name='/physical_device:GPU:0', device_type='GPU')]\n",
      "gpu set\n"
     ]
    }
   ],
   "execution_count": 100
  },
  {
   "cell_type": "markdown",
   "id": "7c48bcf107f4c31b",
   "metadata": {},
   "source": [
    "## basic functions"
   ]
  },
  {
   "cell_type": "code",
   "id": "787272fefa6ec811",
   "metadata": {
    "ExecuteTime": {
     "end_time": "2024-06-24T06:59:21.034740Z",
     "start_time": "2024-06-24T06:59:20.991698Z"
    }
   },
   "source": [
    "# setting up the functions to convert from chars to num and vice versa\n",
    "vocab = [x for x in \"ABCDEFGHIJKLMNOPQRSTUVWXYZ \"]\n",
    "charToNum = tf.keras.layers.StringLookup(vocabulary=vocab, oov_token=\"\")\n",
    "numToChar = tf.keras.layers.StringLookup(vocabulary=charToNum.get_vocabulary(), oov_token=\"\", invert=True)\n",
    "\n",
    "# facial detection vars \n",
    "faceCascade = cv2.CascadeClassifier('haarcascade_frontalface_default.xml')\n",
    "lastKnownCrop = (0, 0, 160, 150)\n",
    "\n",
    "# data dir\n",
    "rootDir = 'A:\\Lip Reading\\Potential Datasets\\BBC LRS2\\\\allFiles'\n",
    "rootDir2 = 'A:\\Lip Reading\\Potential Datasets\\\\BBC LRS2'\n",
    "# r = \"A:\\Lip Reading\\Potential Datasets\\BBC LRS2\\\\allFiles\"\n",
    "\n",
    "batchSize = 2"
   ],
   "outputs": [],
   "execution_count": 186
  },
  {
   "cell_type": "code",
   "id": "c2e49edea7bd4712",
   "metadata": {
    "ExecuteTime": {
     "end_time": "2024-06-24T06:59:23.513495Z",
     "start_time": "2024-06-24T06:59:23.495368Z"
    }
   },
   "source": [
    "# util funcs \n",
    "def faceDetection(img):\n",
    "    # TROUBLESHOOTING\n",
    "    # print(\"max size:\",img.shape, img.shape[0] - 3 * padding, img.shape[1] - 3 * padding)\n",
    "    return faceCascade.detectMultiScale(\n",
    "        img,\n",
    "        scaleFactor=1.3,\n",
    "        minNeighbors=5,\n",
    "        minSize=(30, 30),\n",
    "    )\n",
    "\n",
    "def cropForMouth(img) -> numpy.ndarray:\n",
    "    global lastKnownCrop\n",
    "    rects = faceDetection(cv2.cvtColor(img, cv2.COLOR_BGR2GRAY))\n",
    "    \n",
    "    # finding the largest face in a given image \n",
    "    largestFace = (0,0,0,0)\n",
    "    for (x, y, w, l) in rects:\n",
    "        if (w * l) > largestFace[2] * largestFace[3]:\n",
    "            largestFace = (x, y,w,l)\n",
    "        \n",
    "    if largestFace == (0,0,0,0):\n",
    "        largestFace =lastKnownCrop\n",
    "    # cropping for face \n",
    "    lastKnownCrop = largestFace\n",
    "    y1 = lastKnownCrop[1] \n",
    "    x1 = lastKnownCrop[0]\n",
    "    y2 = y1 + lastKnownCrop[3] \n",
    "    x2 = x1 + lastKnownCrop[2]\n",
    "    return img[y1 + int(0.65 * lastKnownCrop[3]): y2, x1 + int(0.05 * lastKnownCrop[2]): int(0.95 * x2)]\n",
    "\n",
    "def numberToWords(num):  \n",
    "    if num == 0:  \n",
    "        return \"zero\"  \n",
    "    ones = [\"\", \"one\", \"two\", \"three\", \"four\", \"five\", \"six\", \"seven\", \"eight\", \"nine\"]  \n",
    "    tens = [\"\", \"\", \"twenty\", \"thirty\", \"forty\", \"fifty\", \"sixty\", \"seventy\", \"eighty\", \"ninety\"]  \n",
    "    teens = [\"ten\", \"eleven\", \"twelve\", \"thirteen\", \"fourteen\", \"fifteen\", \"sixteen\", \"seventeen\", \"eighteen\", \"nineteen\"]  \n",
    "    words = \"\"  \n",
    "    if num>= 1000:  \n",
    "        words += ones[num // 1000] + \" thousand \"  \n",
    "        num %= 1000  \n",
    "    if num>= 100:  \n",
    "        words += ones[num // 100] + \" hundred \"  \n",
    "        num %= 100  \n",
    "    if num>= 10 and num<= 19:  \n",
    "        words += teens[num - 10] + \" \"  \n",
    "        num = 0  \n",
    "    elif num>= 20:  \n",
    "        words += tens[num // 10] + \" \"  \n",
    "        num %= 10  \n",
    "    if num>= 1 and num<= 9:  \n",
    "        words += ones[num] + \" \"  \n",
    "    return words.strip().upper()"
   ],
   "outputs": [],
   "execution_count": 187
  },
  {
   "cell_type": "code",
   "id": "c7fbad6e80991f3c",
   "metadata": {
    "ExecuteTime": {
     "end_time": "2024-06-24T07:06:24.101600Z",
     "start_time": "2024-06-24T07:06:24.085445Z"
    }
   },
   "source": [
    "def loadData(path): \n",
    "    # tf has the paths as bytes so decode that\n",
    "    path = bytes.decode(path.numpy())\n",
    "    \n",
    "    # extract just the file names\n",
    "    global rootDir\n",
    "    fileName = path.split('\\\\')[-1].split('.')[0]\n",
    "    # generate the respective paths of the data\n",
    "    videoPath = os.path.join(rootDir,f'{fileName}.mp4')\n",
    "    alignmentPath = os.path.join(rootDir,f'{fileName}.txt')\n",
    "    \n",
    "    # return the frames and alignments\n",
    "    frames = loadVideo(videoPath) \n",
    "    alignments = loadText(alignmentPath)\n",
    "    return frames, alignments\n",
    "\n",
    "def loadVideo(path): \n",
    "    cap = cv2.VideoCapture(path)\n",
    "    global lastKnownCrop\n",
    "    processedFrames = []\n",
    "    # for each frame \n",
    "    for n in range(int(cap.get(cv2.CAP_PROP_FRAME_COUNT))): \n",
    "        ret, frame = cap.read()\n",
    "        \n",
    "        # in case a frame is missing, just continue\n",
    "        if frame is None or frame.shape[0] == 0: \n",
    "            continue\n",
    "        \n",
    "        # crop only the mouth like we'll do on the RPI \n",
    "        frame = cropForMouth(frame)\n",
    "        frame = cv2.resize(frame, (150, 50))\n",
    "        \n",
    "        try: frame = tf.image.rgb_to_grayscale(frame)\n",
    "        except: continue\n",
    "        \n",
    "        processedFrames.append(frame)\n",
    "        \n",
    "    cap.release()    \n",
    "\n",
    "    # generate the normalized frames (deviation from the average) \n",
    "    mean = tf.math.reduce_mean(processedFrames)\n",
    "    std = tf.math.reduce_std(tf.cast(processedFrames, tf.float32), axis=[0, 1, 2], keepdims=True)\n",
    "    frames = tf.cast(processedFrames, tf.float32)\n",
    "    normalizedFrames = (tf.cast(frames, tf.float32) - tf.cast(mean, tf.float32)) / tf.cast(std, tf.float32)\n",
    "    return normalizedFrames\n",
    "\n",
    "def loadText(path): \n",
    "    # open and parse the file \n",
    "    with open(path, 'r') as file: lines = file.readlines()\n",
    "    file.close()\n",
    "    \n",
    "    # return the number equivalent of each of the characters of the word \n",
    "    tokens = []\n",
    "    words = lines[0].split()\n",
    "    del words[0]\n",
    "\n",
    "    for word in words: \n",
    "        if word.isnumeric():\n",
    "            newWord = numberToWords(int(word))\n",
    "            words[words.index(word)] = newWord\n",
    "    words = \" \".join(words).split()\n",
    "    \n",
    "    for word in words: \n",
    "        tokens = [*tokens,' ', word]\n",
    "    \n",
    "    return charToNum(tf.reshape(tf.strings.unicode_split(tokens, input_encoding='UTF-8'), (-1)))[1:]   \n",
    "\n",
    "def processData(path): \n",
    "    return tf.py_function(loadData, [path],  (tf.float32, tf.int64))"
   ],
   "outputs": [],
   "execution_count": 200
  },
  {
   "cell_type": "code",
   "id": "a401cd6fa0067aed",
   "metadata": {
    "ExecuteTime": {
     "end_time": "2024-06-24T07:06:24.381140Z",
     "start_time": "2024-06-24T07:06:24.365725Z"
    }
   },
   "source": [
    "def getFrameCount(path) -> int: \n",
    "    cap = cv2.VideoCapture(path)\n",
    "    frameCount = cap.get(cv2.CAP_PROP_FRAME_COUNT)\n",
    "    cap.release()\n",
    "    return frameCount\n",
    "\n",
    "def getCharCount(path) -> int: \n",
    "    return len(loadText(path))"
   ],
   "outputs": [],
   "execution_count": 201
  },
  {
   "metadata": {
    "ExecuteTime": {
     "end_time": "2024-06-24T07:06:24.727528Z",
     "start_time": "2024-06-24T07:06:24.713283Z"
    }
   },
   "cell_type": "code",
   "source": [
    "numberPath = \"A:\\\\Lip Reading\\\\Potential Datasets\\\\BBC LRS2\\\\Numbers.txt\"\n",
    "tensorPath = tf.convert_to_tensor(numberPath, dtype=tf.string)\n",
    "path = bytes.decode(tensorPath.numpy())\n",
    "fileName = path.split('\\\\')[-1].split('.')[0]\n",
    "\n",
    "# testing if the loadData, loadVideo, and loadText function all work\n",
    "alignmentPath = os.path.join(rootDir2,f'{fileName}.txt')\n",
    "loadText(alignmentPath)"
   ],
   "id": "9203a9532b428b04",
   "outputs": [
    {
     "data": {
      "text/plain": [
       "<tf.Tensor: shape=(25,), dtype=int64, numpy=\n",
       "array([20,  8, 18,  5,  5, 27,  8, 21, 14,  4, 18,  5,  4, 27, 20, 23, 15,\n",
       "       27,  8, 21, 14,  4, 18,  5,  4], dtype=int64)>"
      ]
     },
     "execution_count": 202,
     "metadata": {},
     "output_type": "execute_result"
    }
   ],
   "execution_count": 202
  },
  {
   "cell_type": "code",
   "id": "1dc8265fa1dc4688",
   "metadata": {
    "ExecuteTime": {
     "end_time": "2024-06-24T07:06:25.791225Z",
     "start_time": "2024-06-24T07:06:25.309919Z"
    }
   },
   "source": [
    "rawPath = \"A:\\\\Lip Reading\\\\Potential Datasets\\\\BBC LRS2\\\\allFiles\\\\5535415699068794046_00001.mp4\"\n",
    "maxframeCt = 154\n",
    "maxCharCt = 99\n",
    "\n",
    "tensorPath = tf.convert_to_tensor(rawPath, dtype=tf.string)\n",
    "path = bytes.decode(tensorPath.numpy())\n",
    "fileName = path.split('\\\\')[-1].split('.')[0]\n",
    "\n",
    "# testing if the loadData, loadVideo, and loadText function all work\n",
    "videoPath = os.path.join(rootDir,f'{fileName}.mp4')\n",
    "alignmentPath = os.path.join(rootDir,f'{fileName}.txt')\n",
    "\n",
    "loadVideo(videoPath)\n",
    "loadText(alignmentPath)\n",
    "\n",
    "frames, text = loadData(tensorPath)\n",
    "print(type(frames))\n",
    "print(len(frames[0][0]))"
   ],
   "outputs": [
    {
     "name": "stdout",
     "output_type": "stream",
     "text": [
      "<class 'tensorflow.python.framework.ops.EagerTensor'>\n",
      "150\n"
     ]
    }
   ],
   "execution_count": 203
  },
  {
   "cell_type": "markdown",
   "id": "b323b3673a461c65",
   "metadata": {},
   "source": [
    "## reading data"
   ]
  },
  {
   "cell_type": "code",
   "id": "15d040463f02dc61",
   "metadata": {
    "ExecuteTime": {
     "end_time": "2024-06-24T07:06:30.133112Z",
     "start_time": "2024-06-24T07:06:30.067454Z"
    }
   },
   "source": [
    "# reading all files within the root directory\n",
    "# data = tf.data.Dataset.list_files('A:\\Lip Reading\\Potential Datasets\\BBC LRS2\\mvlrs_v1\\main\\*\\*.mp4')\n",
    "data = tf.data.Dataset.list_files('A:/Lip Reading/Potential Datasets/BBC LRS2/trainFiles2/*.mp4')\n",
    "\n",
    "data = data.shuffle(int(len(data) / 4), reshuffle_each_iteration=False) # shuffling data\n",
    "data = data.map(processData) # \"processing\" the data to obtain frames and the respective text \n",
    "\n",
    "dim1 = frames.shape[1]\n",
    "dim2 = frames.shape[2]\n",
    "print(\"dataset size before padding:\", len(data))\n",
    "print(\"data shape of example video:\", frames.shape)\n",
    "\n",
    "# combining 8 videos as one \"input\"\n",
    "# ensuring all videos are padded to match the longest video, \n",
    "# ensuring the length of all the alignments is the size of the longest text characters, as some are lower. \n",
    "data = data.padded_batch(batchSize, padded_shapes=([2*maxCharCt,dim1, dim2,1], [maxCharCt])) \n",
    "data = data.prefetch(tf.data.AUTOTUNE)\n",
    "print(\"data length after padding:\", len(data))\n",
    "print(\"batch size:\", batchSize)\n",
    "\n",
    "train = data.take(int(len(data) * 0.9))\n",
    "test = data.skip(int(len(data) * 0.9))\n",
    "print(\"train data size:\", len(train))\n",
    "print(\"test data size:\",  len(test))"
   ],
   "outputs": [
    {
     "name": "stdout",
     "output_type": "stream",
     "text": [
      "dataset size before padding: 1115\n",
      "data shape of example video: (35, 50, 150, 1)\n",
      "data length after padding: 558\n",
      "batch size: 2\n",
      "train data size: 502\n",
      "test data size: 56\n"
     ]
    }
   ],
   "execution_count": 204
  },
  {
   "cell_type": "code",
   "id": "771515f5cef4617f",
   "metadata": {
    "ExecuteTime": {
     "end_time": "2024-06-24T07:06:32.273362Z",
     "start_time": "2024-06-24T07:06:30.817377Z"
    }
   },
   "source": [
    "val = data.as_numpy_iterator().next()\n",
    "plt.imshow(val[0][0][30])\n",
    "print(len(val[0][0]))"
   ],
   "outputs": [
    {
     "name": "stdout",
     "output_type": "stream",
     "text": [
      "198\n"
     ]
    },
    {
     "data": {
      "text/plain": [
       "<Figure size 640x480 with 1 Axes>"
      ],
      "image/png": "[encoded data removed]"
     },
     "metadata": {},
     "output_type": "display_data"
    }
   ],
   "execution_count": 205
  },
  {
   "metadata": {
    "ExecuteTime": {
     "end_time": "2024-06-24T07:06:33.098685Z",
     "start_time": "2024-06-24T07:06:32.881391Z"
    }
   },
   "cell_type": "code",
   "source": [
    "tf.strings.reduce_join([numToChar(word) for word in val[1][0]])\n",
    "print(\"num of chars:\", len(([numToChar(word) for word in val[1][0]])))"
   ],
   "id": "e1b71a67fbe998bb",
   "outputs": [
    {
     "name": "stdout",
     "output_type": "stream",
     "text": [
      "num of chars: 99\n"
     ]
    }
   ],
   "execution_count": 206
  },
  {
   "cell_type": "markdown",
   "id": "7b9fe2e89759a25",
   "metadata": {},
   "source": [
    "## designing the model"
   ]
  },
  {
   "cell_type": "code",
   "id": "44de38608ebec792",
   "metadata": {
    "ExecuteTime": {
     "end_time": "2024-06-24T07:06:33.910171Z",
     "start_time": "2024-06-24T07:06:33.895656Z"
    }
   },
   "source": [
    "# imports for the model architecture \n",
    "from tensorflow.keras import Sequential\n",
    "from tensorflow.keras.layers import Conv3D, LSTM, Dense, Dropout, Bidirectional, MaxPooling3D, TimeDistributed, Flatten\n",
    "from tensorflow.keras.optimizers import Adam, RMSprop\n",
    "from tensorflow.python.keras.callbacks import ModelCheckpoint, LearningRateScheduler"
   ],
   "outputs": [],
   "execution_count": 207
  },
  {
   "cell_type": "code",
   "id": "a4e35802d732d3c6",
   "metadata": {
    "ExecuteTime": {
     "end_time": "2024-06-24T07:06:35.132502Z",
     "start_time": "2024-06-24T07:06:34.331692Z"
    }
   },
   "source": [
    "inputShape = data.as_numpy_iterator().next()[0][0].shape\n",
    "print(inputShape)\n",
    "print(charToNum.get_vocabulary())\n",
    "print(len(charToNum.get_vocabulary()))"
   ],
   "outputs": [
    {
     "name": "stdout",
     "output_type": "stream",
     "text": [
      "(198, 50, 150, 1)\n",
      "['', 'A', 'B', 'C', 'D', 'E', 'F', 'G', 'H', 'I', 'J', 'K', 'L', 'M', 'N', 'O', 'P', 'Q', 'R', 'S', 'T', 'U', 'V', 'W', 'X', 'Y', 'Z', ' ']\n",
      "28\n"
     ]
    }
   ],
   "execution_count": 208
  },
  {
   "cell_type": "code",
   "id": "84706072692f52d9",
   "metadata": {
    "ExecuteTime": {
     "end_time": "2024-06-24T07:06:36.097434Z",
     "start_time": "2024-06-24T07:06:35.786666Z"
    }
   },
   "source": [
    "# model to be actually trained\n",
    "model = Sequential([\n",
    "Conv3D(32, 3, input_shape=inputShape, padding='same', activation='relu'),\n",
    "MaxPooling3D((1,6,10)),\n",
    "\n",
    "Conv3D(maxframeCt, 5, padding='same', activation='relu'),\n",
    "\n",
    "TimeDistributed(Flatten()),\n",
    "\n",
    "Bidirectional(LSTM(16, return_sequences=True)),\n",
    "Dropout(.5),\n",
    "\n",
    "Dense(charToNum.vocabulary_size()+1, kernel_initializer='he_normal', activation='softmax')\n",
    "])\n",
    "\n",
    "# model = Sequential([\n",
    "# Conv3D(128, 3, input_shape=inputShape, padding='same', activation='relu'),\n",
    "# MaxPooling3D((1,2,2)),\n",
    "# \n",
    "# Conv3D(256, 3, padding='same', activation='relu'),\n",
    "# MaxPooling3D((1,2,2)),\n",
    "# \n",
    "# Conv3D(154, 3, padding='same', activation='relu'),\n",
    "# MaxPooling3D((1,2,2)),\n",
    "# \n",
    "# TimeDistributed(Flatten()),\n",
    "# \n",
    "# Bidirectional(LSTM(128, return_sequences=True)),\n",
    "# Dropout(.5),\n",
    "# \n",
    "# Bidirectional(LSTM(128,  return_sequences=True)),\n",
    "# Dropout(.5),\n",
    "# \n",
    "# Dense(charToNum.vocabulary_size()+1, kernel_initializer='he_normal', activation='softmax')\n",
    "# ])\n",
    "\n",
    "# \n",
    "# testModel = Sequential([\n",
    "# Conv3D(154, 5, input_shape=inputShape, padding='same', activation='relu'),\n",
    "# MaxPooling3D((1,3,5)),\n",
    "#  \n",
    "# TimeDistributed(Flatten()),\n",
    "#     \n",
    "# Dense(charToNum.vocabulary_size()+1, activation='softmax')\n",
    "# ])\n",
    "# \n",
    "# model3 = Sequential([\n",
    "# Conv3D(32, 3, input_shape=inputShape, padding='same', activation='relu'),\n",
    "# MaxPooling3D((1,2,2)),\n",
    "# \n",
    "# Conv3D(64, 3, input_shape=inputShape, padding='same', activation='relu'),\n",
    "# MaxPooling3D((1,2,2)),\n",
    "# \n",
    "# Conv3D(154, 3, padding='same', activation='relu'),\n",
    "# MaxPooling3D((1,2,2)),\n",
    "# \n",
    "# TimeDistributed(Flatten()),\n",
    "# \n",
    "# Bidirectional(LSTM(64, return_sequences=True)),\n",
    "# Dropout(0.5),\n",
    "# \n",
    "# Bidirectional(LSTM(64, return_sequences=True)),\n",
    "# Dropout(0.5),\n",
    "# \n",
    "# Dense(charToNum.vocabulary_size()+1, activation='softmax')\n",
    "# ])"
   ],
   "outputs": [],
   "execution_count": 209
  },
  {
   "cell_type": "code",
   "id": "d728bc2771721d6c",
   "metadata": {
    "ExecuteTime": {
     "end_time": "2024-06-24T07:06:36.626835Z",
     "start_time": "2024-06-24T07:06:36.607819Z"
    }
   },
   "source": [
    "model.summary()\n",
    "# testModel.summary()\n",
    "# model3.summary()"
   ],
   "outputs": [
    {
     "name": "stdout",
     "output_type": "stream",
     "text": [
      "Model: \"sequential_12\"\n",
      "_________________________________________________________________\n",
      " Layer (type)                Output Shape              Param #   \n",
      "=================================================================\n",
      " conv3d_24 (Conv3D)          (None, 198, 50, 150, 32)  896       \n",
      "                                                                 \n",
      " max_pooling3d_12 (MaxPoolin  (None, 198, 8, 15, 32)   0         \n",
      " g3D)                                                            \n",
      "                                                                 \n",
      " conv3d_25 (Conv3D)          (None, 198, 8, 15, 154)   616154    \n",
      "                                                                 \n",
      " time_distributed_12 (TimeDi  (None, 198, 18480)       0         \n",
      " stributed)                                                      \n",
      "                                                                 \n",
      " bidirectional_12 (Bidirecti  (None, 198, 32)          2367616   \n",
      " onal)                                                           \n",
      "                                                                 \n",
      " dropout_12 (Dropout)        (None, 198, 32)           0         \n",
      "                                                                 \n",
      " dense_12 (Dense)            (None, 198, 29)           957       \n",
      "                                                                 \n",
      "=================================================================\n",
      "Total params: 2,985,623\n",
      "Trainable params: 2,985,623\n",
      "Non-trainable params: 0\n",
      "_________________________________________________________________\n"
     ]
    }
   ],
   "execution_count": 210
  },
  {
   "cell_type": "code",
   "id": "9cd1b05996f23f8e",
   "metadata": {
    "ExecuteTime": {
     "end_time": "2024-06-24T07:06:37.516314Z",
     "start_time": "2024-06-24T07:06:37.506802Z"
    }
   },
   "source": [
    "# custom functions \n",
    "def scheduler(epoch, lr):\n",
    "    if epoch < 30:\n",
    "        return lr\n",
    "    else:\n",
    "        return lr * tf.math.exp(-0.1)\n",
    "# custom loss function \n",
    "def CTCLoss(yTrue, yPred):\n",
    "    \n",
    "    # y true is the text alignment (None, 99) \n",
    "    # y pred is the end result of the model (154, 41) \n",
    "    batchLen = tf.cast(tf.shape(yTrue)[0], dtype=\"int64\")\n",
    "    # print(\"tf.shape(yTrue)[0]:\", tf.shape(yTrue)[0])\n",
    "    inputLen = tf.cast(tf.shape(yPred)[1], dtype=\"int64\")\n",
    "    labelLen = tf.cast(tf.shape(yTrue)[1], dtype=\"int64\")\n",
    "    # print(\"initial inputlen\", inputLen)\n",
    "    # print(\"initial labellen\", labelLen)\n",
    "\n",
    "    inputLen = inputLen * tf.ones(shape=(batchLen, 1), dtype=\"int64\")\n",
    "    labelLen = labelLen * tf.ones(shape=(batchLen, 1), dtype=\"int64\")\n",
    "\n",
    "    loss = tf.keras.backend.ctc_batch_cost(yTrue, yPred, inputLen, labelLen)   \n",
    "    # print(\"ytrue\", yTrue)\n",
    "    # print(\"ypred\",yPred)\n",
    "    # print(\"batchlen\", batchLen)\n",
    "    # print(\"inputlen\", inputLen)\n",
    "    # print(\"labellen\",labelLen)\n",
    "    # print(\"loss\",loss)\n",
    "    # print(\"*\" * 50) \n",
    "\n",
    "    # return loss\n",
    "    return loss \n",
    "\n",
    "\n",
    "class ProduceExample(tf.keras.callbacks.Callback): \n",
    "    def __init__(self, dataset) -> None: \n",
    "        self.dataset = dataset.as_numpy_iterator()\n",
    "    \n",
    "    def on_epoch_end(self, epoch, logs=None) -> None:\n",
    "        data = self.dataset.next()\n",
    "        yhat = self.model.predict(data[0])\n",
    "        \n",
    "        decoded = tf.keras.backend.ctc_decode(yhat, [maxframeCt, maxframeCt], greedy=False)[0][0].numpy()\n",
    "        for x in range(len(yhat)):           \n",
    "            print('Original:', tf.strings.reduce_join(numToChar(data[1][x])).numpy().decode('utf-8'))\n",
    "            print('Prediction:', tf.strings.reduce_join(numToChar(decoded[x])).numpy().decode('utf-8'))\n",
    "            print('~'*100)"
   ],
   "outputs": [],
   "execution_count": 211
  },
  {
   "metadata": {
    "ExecuteTime": {
     "end_time": "2024-06-24T07:06:38.953371Z",
     "start_time": "2024-06-24T07:06:37.984390Z"
    }
   },
   "cell_type": "code",
   "source": [
    "yHat = model.predict(val[0])\n",
    "print(tf.strings.reduce_join([numToChar(tf.argmax(x)) for x in yHat[0]]))\n",
    "print(len(([numToChar(tf.argmax(x)) for x in yHat[0]])))"
   ],
   "id": "d5afa6ac776aca30",
   "outputs": [
    {
     "name": "stdout",
     "output_type": "stream",
     "text": [
      "1/1 [==============================] - 1s 759ms/step\n",
      "tf.Tensor(b'TGGGMGGGGGGGGGGGGGGGGMGMGGGGGGGGGGGGGGGMGGGGGGGGGGGGGGGGGGMMMMMGGGGGGGGGGGGGMMMMMMMMMMMGGGSSSMMSSSYOOYYMMMMMMMMMMGGGGGGGGFZZZNNNNNNNNNNNNNNNNNNNNNNNNNNNNNNNNNNNNNNNNNNNNNNNNGGDDDBBB', shape=(), dtype=string)\n",
      "198\n"
     ]
    }
   ],
   "execution_count": 212
  },
  {
   "cell_type": "code",
   "id": "f92dcff213216a6f",
   "metadata": {
    "ExecuteTime": {
     "end_time": "2024-06-24T07:06:39.587309Z",
     "start_time": "2024-06-24T07:06:39.555770Z"
    }
   },
   "source": [
    "from tensorflow.keras.losses import categorical_crossentropy\n",
    "from tensorflow.keras.optimizers import SGD\n",
    "model.compile(optimizer=SGD(learning_rate=0.0001), loss=CTCLoss)\n",
    "checkpointCallback = ModelCheckpoint('newLipModelv2_m1.weights.h5', monitor='loss',save_weights_only=False) \n",
    "scheduleCallback = LearningRateScheduler(scheduler)\n",
    "exampleCallback = ProduceExample(test)\n",
    "# \n",
    "# model3.compile(optimizer=RMSprop(learning_rate=0.001), loss=CTCLoss)\n",
    "# # checkpointCallback = ModelCheckpoint('newLipModelm3.weights.h5', monitor='loss',save_weights_only=False) \n",
    "# scheduleCallback = LearningRateScheduler(scheduler)\n",
    "# # exampleCallback = ProduceExample(test)\n",
    "#  \n",
    "# testModel.compile(optimizer=Adam(learning_rate=0.001), loss=CTCLoss)\n",
    "# scheduleCallback = LearningRateScheduler(scheduler)"
   ],
   "outputs": [],
   "execution_count": 213
  },
  {
   "cell_type": "code",
   "id": "441f0789798741da",
   "metadata": {
    "ExecuteTime": {
     "end_time": "2024-06-24T07:06:46.253705Z",
     "start_time": "2024-06-24T07:06:40.037529Z"
    }
   },
   "source": "model.fit(train, validation_data=test, epochs=100, callbacks=[scheduleCallback, checkpointCallback])",
   "outputs": [
    {
     "name": "stdout",
     "output_type": "stream",
     "text": [
      "Epoch 1/100\n",
      "  4/502 [..............................] - ETA: 6:17 - loss: 520.6655"
     ]
    },
    {
     "name": "stderr",
     "output_type": "stream",
     "text": [
      "\n",
      "KeyboardInterrupt\n",
      "\n"
     ]
    }
   ],
   "execution_count": 214
  },
  {
   "metadata": {},
   "cell_type": "code",
   "source": [
    "yHat = model.predict(val[0])\n",
    "print(tf.strings.reduce_join([numToChar(tf.argmax(x)) for x in yHat[0]]))"
   ],
   "id": "8c641bb605c23341",
   "outputs": [],
   "execution_count": null
  },
  {
   "metadata": {},
   "cell_type": "code",
   "source": "model.load_weights('newLipModel_m1.weights.h5')",
   "id": "1a18ff5285cbb556",
   "outputs": [],
   "execution_count": null
  },
  {
   "metadata": {},
   "cell_type": "code",
   "source": [
    "# Get training and test loss histories\n",
    "training_loss = model.history.history['loss']\n",
    "test_loss = model.history.history['val_loss']\n",
    "\n",
    "# Create count of the number of epochs\n",
    "epoch_count = range(1, len(training_loss) + 1)\n",
    "\n",
    "# Visualize loss history\n",
    "plt.plot(epoch_count, training_loss, 'r--')\n",
    "plt.plot(epoch_count, test_loss, 'b-')\n",
    "plt.legend(['Training Loss', 'Test Loss'])\n",
    "plt.xlabel('Epoch')\n",
    "plt.ylabel('Loss')\n",
    "plt.show();"
   ],
   "id": "6eff0658378dde17",
   "outputs": [],
   "execution_count": null
  },
  {
   "metadata": {},
   "cell_type": "code",
   "source": "",
   "id": "88f6fecc2fb453ef",
   "outputs": [],
   "execution_count": null
  }
 ],
 "metadata": {
  "kernelspec": {
   "display_name": "Python 3 (ipykernel)",
   "language": "python",
   "name": "python3"
  },
  "language_info": {
   "codemirror_mode": {
    "name": "ipython",
    "version": 3
   },
   "file_extension": ".py",
   "mimetype": "text/x-python",
   "name": "python",
   "nbconvert_exporter": "python",
   "pygments_lexer": "ipython3",
   "version": "3.9.19"
  }
 },
 "nbformat": 4,
 "nbformat_minor": 5
}
