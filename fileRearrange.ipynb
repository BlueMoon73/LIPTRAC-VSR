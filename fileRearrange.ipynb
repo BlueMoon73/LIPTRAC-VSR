{
 "cells": [
  {
   "cell_type": "code",
   "id": "initial_id",
   "metadata": {
    "collapsed": true,
    "ExecuteTime": {
     "end_time": "2024-06-21T22:28:22.078500Z",
     "start_time": "2024-06-21T22:28:22.066500Z"
    }
   },
   "source": [
    "import shutil \n",
    "import os \n",
    "\n",
    "rootDir = 'A:\\Lip Reading\\Potential Datasets\\BBC LRS2\\mvlrs_v1\\main'\n",
    "newDir  = 'A:\\Lip Reading\\Potential Datasets\\BBC LRS2\\allFiles'"
   ],
   "outputs": [],
   "execution_count": 17
  },
  {
   "metadata": {
    "ExecuteTime": {
     "end_time": "2024-06-21T22:35:58.772481Z",
     "start_time": "2024-06-21T22:29:58.362305Z"
    }
   },
   "cell_type": "code",
   "source": [
    "for subdir, dirs, files in os.walk(rootDir):\n",
    "    for file in files:\n",
    "        # print(os.path.join(subdir, file))\n",
    "        fileFolder = subdir.split('\\\\')[-1]\n",
    "        newFileName = fileFolder + '_' + file\n",
    "    \n",
    "        shutil.copy2(os.path.join(subdir, file), os.path.join(newDir, newFileName))\n",
    "        # print(os.path.join(subdir, file))"
   ],
   "id": "a0870df4d35ea82d",
   "outputs": [],
   "execution_count": 20
  },
  {
   "metadata": {},
   "cell_type": "code",
   "outputs": [],
   "execution_count": null,
   "source": "",
   "id": "a026789891cbc40e"
  }
 ],
 "metadata": {
  "kernelspec": {
   "display_name": "Python 3",
   "language": "python",
   "name": "python3"
  },
  "language_info": {
   "codemirror_mode": {
    "name": "ipython",
    "version": 2
   },
   "file_extension": ".py",
   "mimetype": "text/x-python",
   "name": "python",
   "nbconvert_exporter": "python",
   "pygments_lexer": "ipython2",
   "version": "2.7.6"
  }
 },
 "nbformat": 4,
 "nbformat_minor": 5
}
