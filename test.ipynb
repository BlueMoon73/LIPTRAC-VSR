{
 "cells": [
  {
   "cell_type": "code",
   "id": "initial_id",
   "metadata": {
    "collapsed": true,
    "ExecuteTime": {
     "end_time": "2024-06-20T00:17:15.089293Z",
     "start_time": "2024-06-20T00:17:14.971413Z"
    }
   },
   "source": [
    "import cv2\n",
    "import numpy"
   ],
   "outputs": [],
   "execution_count": 2
  },
  {
   "metadata": {
    "ExecuteTime": {
     "end_time": "2024-06-20T00:17:19.386768Z",
     "start_time": "2024-06-20T00:17:19.373188Z"
    }
   },
   "cell_type": "code",
   "source": [
    "faceCascade = cv2.CascadeClassifier('haarcascade_frontalface_default.xml')\n",
    "\n",
    "def faceDetection(img):\n",
    "    # TROUBLESHOOTING\n",
    "    # print(\"max size:\",img.shape, img.shape[0] - 3 * padding, img.shape[1] - 3 * padding)\n",
    "    return faceCascade.detectMultiScale(\n",
    "        img,\n",
    "        scaleFactor=1.3,\n",
    "        minNeighbors=5,\n",
    "        minSize=(30, 30),\n",
    "    )\n",
    "def cropForFace(img) -> numpy.ndarray:\n",
    "    global lastKnownCrop\n",
    "    rects = faceDetection(cv2.cvtColor(img, cv2.COLOR_BGR2GRAY))\n",
    "    \n",
    "    print(type(rects))\n",
    "    # TO DO \n",
    "    # ADD ERROR HANDLING FOR IF THERE IS MULTIPLE FACES\n",
    "    for (x,y,w,l) in rects: \n",
    "        # TROUBLESHOOTING\n",
    "        # print(img.shape, x,y,w,l)\n",
    "        lastKnownCrop = (x,y,w,l)\n",
    "    y1 = lastKnownCrop[1] \n",
    "    x1 = lastKnownCrop[0]\n",
    "    y2 = y1 + lastKnownCrop[3] \n",
    "    x2 = x1 + lastKnownCrop[2]\n",
    "    return img[y1:y2, x1:x2]"
   ],
   "id": "a5dee4e035c28c41",
   "outputs": [],
   "execution_count": 3
  },
  {
   "metadata": {},
   "cell_type": "markdown",
   "source": "",
   "id": "2ec8ece200aca63"
  },
  {
   "metadata": {
    "ExecuteTime": {
     "end_time": "2024-06-20T00:17:21.543832Z",
     "start_time": "2024-06-20T00:17:21.482257Z"
    }
   },
   "cell_type": "code",
   "source": [
    "img = cv2.imread('sampleData/familyPic.jpg')\n",
    "cv2.imshow('img', img)\n",
    "# cropForFace(img)"
   ],
   "id": "5bc0111a0cb1ca3d",
   "outputs": [],
   "execution_count": 4
  },
  {
   "metadata": {},
   "cell_type": "code",
   "outputs": [],
   "execution_count": null,
   "source": "",
   "id": "77e38f537d230e89"
  }
 ],
 "metadata": {
  "kernelspec": {
   "display_name": "Python 3",
   "language": "python",
   "name": "python3"
  },
  "language_info": {
   "codemirror_mode": {
    "name": "ipython",
    "version": 2
   },
   "file_extension": ".py",
   "mimetype": "text/x-python",
   "name": "python",
   "nbconvert_exporter": "python",
   "pygments_lexer": "ipython2",
   "version": "2.7.6"
  }
 },
 "nbformat": 4,
 "nbformat_minor": 5
}
