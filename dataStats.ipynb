{
 "cells": [
  {
   "cell_type": "code",
   "id": "initial_id",
   "metadata": {
    "collapsed": true,
    "ExecuteTime": {
     "end_time": "2024-06-22T06:16:09.482114Z",
     "start_time": "2024-06-22T06:16:09.474604Z"
    }
   },
   "source": [
    "import tensorflow as tf \n",
    "import cv2 \n",
    "import os "
   ],
   "outputs": [],
   "execution_count": 9
  },
  {
   "metadata": {
    "ExecuteTime": {
     "end_time": "2024-06-22T06:16:09.514125Z",
     "start_time": "2024-06-22T06:16:09.484115Z"
    }
   },
   "cell_type": "code",
   "source": [
    "rootDir = 'A:\\Lip Reading\\Potential Datasets\\BBC LRS2\\\\allFiles'\n",
    "vocab = [x for x in \"ABCDEFGHIJKLMNOPQRSTUVWXYZ'?!123456789 \"]\n",
    "\n",
    "def getFrameCount(path) -> int: \n",
    "    cap = cv2.VideoCapture(path)\n",
    "    frameCount = cap.get(cv2.CAP_PROP_FRAME_COUNT)\n",
    "    cap.release()\n",
    "    return frameCount\n",
    "def getCharCount(path) -> int: \n",
    "    return len(loadText(path))\n",
    "def loadText(path): \n",
    "    # open and parse the file \n",
    "    with open(path, 'r') as file: lines = file.readlines()\n",
    "    file.close()\n",
    "    \n",
    "    # return the number equivalent of each of the characters of the word \n",
    "    tokens = []\n",
    "    words = lines[0].split()\n",
    "    del words[0]\n",
    "    for word in words: tokens = [*tokens,' ', word]\n",
    "    \n",
    "    return charToNum(tf.reshape(tf.strings.unicode_split(tokens, input_encoding='UTF-8'), (-1)))[1:]   \n",
    "charToNum = tf.keras.layers.StringLookup(vocabulary=vocab, oov_token=\"\")\n"
   ],
   "id": "365a3a54ec15cba",
   "outputs": [],
   "execution_count": 10
  },
  {
   "metadata": {
    "ExecuteTime": {
     "end_time": "2024-06-22T06:24:32.346294Z",
     "start_time": "2024-06-22T06:16:09.514975Z"
    }
   },
   "cell_type": "code",
   "source": [
    "# finding the max number of frames & chars in a certain video \n",
    "frameCt = []\n",
    "charCt = []\n",
    "vidList = []\n",
    "textList = []\n",
    "fileList = [vidList, textList]\n",
    "# iterating through each file in the root folder\n",
    "for subdir, dirs, files in os.walk(rootDir):\n",
    "    for file in files:\n",
    "        if file.split('.')[1] == \"mp4\": \n",
    "            frameCt.append(getFrameCount(os.path.join(subdir, file)))\n",
    "            vidList.append(os.path.join(subdir, file))\n",
    "        if file.split('.')[1] == \"txt\": \n",
    "            charCt.append(getCharCount(os.path.join(subdir, file)))\n",
    "            textList.append(os.path.join(subdir, file))\n",
    "        \n",
    "            \n",
    "print(\"frameCt\", max(frameCt), \", index:\", frameCt.index(max(frameCt)))\n",
    "print(\"longest video:\", vidList[frameCt.index(max(frameCt))])\n",
    "print(\"charCt\", max(charCt), \", index:\", charCt.index(max(charCt)))\n",
    "print(\"longest text:\", textList[charCt.index(max(charCt))])\n"
   ],
   "id": "c56485e2278c4dbe",
   "outputs": [
    {
     "name": "stdout",
     "output_type": "stream",
     "text": [
      "frameCt 154.0 , index: 4207\n",
      "longest video: A:\\Lip Reading\\Potential Datasets\\BBC LRS2\\allFiles\\5682340946807479970_00031.mp4\n",
      "charCt 99 , index: 510\n",
      "longest text: A:\\Lip Reading\\Potential Datasets\\BBC LRS2\\allFiles\\5540854416155721607_00004.txt\n"
     ]
    }
   ],
   "execution_count": 11
  },
  {
   "metadata": {
    "ExecuteTime": {
     "end_time": "2024-06-22T06:24:32.362076Z",
     "start_time": "2024-06-22T06:24:32.347294Z"
    }
   },
   "cell_type": "code",
   "source": "",
   "id": "b0a8f4d2bb5d0a4d",
   "outputs": [],
   "execution_count": 11
  }
 ],
 "metadata": {
  "kernelspec": {
   "display_name": "Python 3",
   "language": "python",
   "name": "python3"
  },
  "language_info": {
   "codemirror_mode": {
    "name": "ipython",
    "version": 2
   },
   "file_extension": ".py",
   "mimetype": "text/x-python",
   "name": "python",
   "nbconvert_exporter": "python",
   "pygments_lexer": "ipython2",
   "version": "2.7.6"
  }
 },
 "nbformat": 4,
 "nbformat_minor": 5
}
