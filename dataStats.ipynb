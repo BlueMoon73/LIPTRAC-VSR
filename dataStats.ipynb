{
 "cells": [
  {
   "cell_type": "code",
   "id": "initial_id",
   "metadata": {
    "collapsed": true,
    "ExecuteTime": {
     "end_time": "2024-07-04T22:26:07.949784Z",
     "start_time": "2024-07-04T22:26:07.935668Z"
    }
   },
   "source": [
    "import tensorflow as tf \n",
    "import cv2 \n",
    "import os \n",
    "from collections import Counter\n",
    "import pandas\n",
    "import sys\n",
    "import io"
   ],
   "outputs": [],
   "execution_count": 12
  },
  {
   "metadata": {
    "ExecuteTime": {
     "end_time": "2024-07-04T22:20:18.160796Z",
     "start_time": "2024-07-04T22:20:06.033723Z"
    }
   },
   "cell_type": "code",
   "source": [
    "rootDir = 'A:\\Lip Reading\\Potential Datasets\\BBC LRS2\\\\allFiles'\n",
    "vocab = [x for x in \"ABCDEFGHIJKLMNOPQRSTUVWXYZ'?!123456789 \"]\n",
    "\n",
    "def getFrameAndSizeCount(path) -> int: \n",
    "    cap = cv2.VideoCapture(path)\n",
    "    frameCount = cap.get(cv2.CAP_PROP_FRAME_COUNT)\n",
    "    width = cap.get(cv2.CAP_PROP_FRAME_WIDTH)\n",
    "    height = cap.get(cv2.CAP_PROP_FRAME_HEIGHT)\n",
    "    size = (width, height)\n",
    "    cap.release()\n",
    "    return frameCount, size\n",
    "def getCharCount(path) -> int: \n",
    "    return len(loadText(path))\n",
    "def numberToWords(num):  \n",
    "    if num == 0:  \n",
    "        return \"zero\"  \n",
    "    ones = [\"\", \"one\", \"two\", \"three\", \"four\", \"five\", \"six\", \"seven\", \"eight\", \"nine\"]  \n",
    "    tens = [\"\", \"\", \"twenty\", \"thirty\", \"forty\", \"fifty\", \"sixty\", \"seventy\", \"eighty\", \"ninety\"]  \n",
    "    teens = [\"ten\", \"eleven\", \"twelve\", \"thirteen\", \"fourteen\", \"fifteen\", \"sixteen\", \"seventeen\", \"eighteen\", \"nineteen\"]  \n",
    "    words = \"\"  \n",
    "    if num>= 1000:  \n",
    "        words += ones[num // 1000] + \" thousand \"  \n",
    "        num %= 1000  \n",
    "    if num>= 100:  \n",
    "        words += ones[num // 100] + \" hundred \"  \n",
    "        num %= 100  \n",
    "    if num>= 10 and num<= 19:  \n",
    "        words += teens[num - 10] + \" \"  \n",
    "        num = 0  \n",
    "    elif num>= 20:  \n",
    "        words += tens[num // 10] + \" \"  \n",
    "        num %= 10  \n",
    "    if num>= 1 and num<= 9:  \n",
    "        words += ones[num] + \" \"  \n",
    "    return words.strip().upper()\n",
    "def loadText(path): \n",
    "    # open and parse the file \n",
    "    with open(path, 'r') as file: lines = file.readlines()\n",
    "    file.close()\n",
    "    \n",
    "    # return the number equivalent of each of the characters of the word \n",
    "    tokens = []\n",
    "    words = lines[0].split()\n",
    "    del words[0]\n",
    "\n",
    "    for word in words: \n",
    "        if word.isnumeric():\n",
    "            newWord = numberToWords(int(word))\n",
    "            words[words.index(word)] = newWord\n",
    "    words = \" \".join(words).split()\n",
    "    \n",
    "    for word in words: \n",
    "        tokens = [*tokens,' ', word]\n",
    "    \n",
    "    return charToNum(tf.reshape(tf.strings.unicode_split(tokens, input_encoding='UTF-8'), (-1)))[1:]   \n",
    "charToNum = tf.keras.layers.StringLookup(vocabulary=vocab, oov_token=\"\")"
   ],
   "id": "365a3a54ec15cba",
   "outputs": [],
   "execution_count": 3
  },
  {
   "metadata": {
    "ExecuteTime": {
     "end_time": "2024-07-04T22:20:18.176818Z",
     "start_time": "2024-07-04T22:20:18.164303Z"
    }
   },
   "cell_type": "code",
   "source": [
    "# finding the max number of frames & chars in a certain video \n",
    "randomDir = None\n",
    "def dataStats(dir, progressNum, isDir=True): \n",
    "    global randomDir\n",
    "    frameCt = []\n",
    "    sizes = []\n",
    "    charCt = []\n",
    "    vidList = []\n",
    "    textList = []\n",
    "    counter = 0\n",
    "    if isDir: \n",
    "        # iterating through each file in the root folder\n",
    "        for subdir, dirs, files in os.walk(dir):\n",
    "            for file in files:\n",
    "                if file.split('.')[1] == \"mp4\": \n",
    "                    frameCount, size = getFrameAndSizeCount(os.path.join(subdir, file))\n",
    "                    frameCt.append(frameCount)\n",
    "                    sizes.append(size)\n",
    "                    vidList.append(os.path.join(subdir, file))\n",
    "                    randomDir = (os.path.join(subdir, file))\n",
    "                if file.split('.')[1] == \"txt\": \n",
    "                    charCt.append(getCharCount(os.path.join(subdir, file)))\n",
    "                    textList.append(os.path.join(subdir, file))\n",
    "                counter += 1 \n",
    "                if counter % progressNum == 0:\n",
    "                    print(counter, \"files done\")\n",
    "    if not isDir: \n",
    "        if dir.split('.')[1] == \"mp4\": \n",
    "            frameCount, size = getFrameAndSizeCount(os.path.join(subdir, file))\n",
    "            frameCt.append(frameCount)\n",
    "            sizes.append(size)\n",
    "            vidList.append(os.path.join(subdir, file))\n",
    "            randomDir = (os.path.join(subdir, file))\n",
    "        if dir.split('.')[1] == \"txt\": \n",
    "            charCt.append(getCharCount(dir))\n",
    "            textList.append(dir)\n",
    "    return frameCt, sizes, charCt, vidList, textList    "
   ],
   "id": "c56485e2278c4dbe",
   "outputs": [],
   "execution_count": 4
  },
  {
   "metadata": {
    "ExecuteTime": {
     "end_time": "2024-07-04T22:31:40.786512Z",
     "start_time": "2024-07-04T22:31:40.765173Z"
    }
   },
   "cell_type": "code",
   "source": [
    "def mostCommon(lst):\n",
    "    return max(set(lst), key=lst.count)\n",
    "\n",
    "def freq(lst):\n",
    "    d = {}\n",
    "    for i in lst:\n",
    "        if d.get(i):\n",
    "            d[i] += 1\n",
    "        else:\n",
    "            d[i] = 1\n",
    "    return d\n",
    "\n",
    "def printStats(frameCt, sizes, charCt, vidList, textList, percentUsed = 1): \n",
    "    frameRate = 25\n",
    "    print(\"=\" * 100)\n",
    "    print(\"=\" * 100)\n",
    "\n",
    "    print(\"num videos:\", len(frameCt))\n",
    "    print(\"=\" * 100)\n",
    "\n",
    "    print(\"FRAME COUNT STATS\", '\\n')\n",
    "    print(\"max frame count:\", max(frameCt), \", index:\", frameCt.index(max(frameCt)))\n",
    "    print(\"longest video:\", vidList[frameCt.index(max(frameCt))])\n",
    "    print(\"min frame count:\", min(frameCt), \", index:\", frameCt.index(min(frameCt)))\n",
    "    print(\"shortest video:\", vidList[frameCt.index(min(frameCt))])\n",
    "    print(\"frame count frequencies:\", freq(frameCt))\n",
    "    \n",
    "    print(\"=\" * 100)\n",
    "    print(\"=\" * 100)\n",
    "\n",
    "    print(\"FRAME SIZE STATS\", '\\n')\n",
    "    print(\"max frame sizes:\", max(sizes), \", index:\", sizes.index(max(sizes)))\n",
    "    print(\"largest (frame size-wise) video:\", vidList[sizes.index(max(sizes))])\n",
    "    print(\"frame shape frequencies:\", freq(sizes))\n",
    "\n",
    "    print(\"=\" * 100)\n",
    "    print(\"=\" * 100)\n",
    "\n",
    "    print(\"CHAR COUNT STATS\", '\\n')\n",
    "    print(\"max char count:\", max(charCt), \", index:\", charCt.index(max(charCt)))\n",
    "    print(\"longest text:\", textList[charCt.index(max(charCt))])\n",
    "    print(\"min char count:\", min(charCt), \", index:\", charCt.index(min(charCt)))\n",
    "    print(\"shortest text:\", textList[charCt.index(min(charCt))])\n",
    "    print(\"char count frequencies:\", freq(charCt))\n",
    "    \n",
    "    \n",
    "    print(\"=\" * 100)\n",
    "    print(\"=\" * 100)    \n",
    "    print(\"TOTAL CONTENT STATS\", '\\n')\n",
    "    print(\"total num of frames:\", sum(frameCt))\n",
    "    print(\"total num of frames used :\", int(sum(frameCt) * percentUsed))\n",
    "    print(\"total hours of video:\", (sum(frameCt) / frameRate / 3600))\n",
    "    print(\"total hours of video used :\", (sum(frameCt) / frameRate / 3600) * percentUsed)\n",
    "    print(\"total minutes of video:\", (sum(frameCt) / frameRate / 60))\n",
    "    print(\"total minutes of video used :\", (sum(frameCt) / frameRate / 60) * percentUsed)\n",
    "    print(\"=\" * 100)\n",
    "    print(\"=\" * 100)\n",
    "    print(\"AVERAGE CONTENT STATS\", '\\n' )\n",
    "    print(\"avg num of frames: \", int(sum(frameCt)/len(frameCt)))\n",
    "    print(\"avg chars per vid:\", int(sum(charCt)/len(charCt)))\n",
    "    print(\"most common number of frames:\", mostCommon(frameCt))\n",
    "    print(\"most common number of characters:\", mostCommon(charCt))\n",
    "    print(\"=\" * 100)\n",
    "    print(\"=\" * 100)\n",
    "\n",
    "def visualizeDistribution(data, name=None):\n",
    "    data = sorted(data)\n",
    "    count = Counter(data)\n",
    "    df = pandas.DataFrame.from_dict(count, orient='index')\n",
    "    if name is None:\n",
    "        df.plot(kind='bar',  legend=False)\n",
    "    else: \n",
    "        df.plot(kind='bar',  legend=False, title=name)\n",
    "\n",
    "def writeOutputToTXT(frameCt, sizes, charCt, vidList, textList, folderName, percentUsed = 1): \n",
    "    \n",
    "    fileName = folderName + \"_\" + str(percentUsed) + \".txt\"\n",
    "    file = open(fileName, 'w')\n",
    "    file.write(folderName + \"====\" + percentUsed * 100 + \"% used\" + \"\\n\")\n",
    "    \n",
    "    file.close()\n",
    "    \n",
    "    sys.stdout = open(fileName, 'w')\n",
    "    \n",
    "    printStats(frameCt, sizes, charCt, vidList, textList)\n",
    "    \n",
    "    sys.stdout.close()\n",
    "        "
   ],
   "id": "5531a98968f6b5d1",
   "outputs": [],
   "execution_count": 15
  },
  {
   "metadata": {
    "jupyter": {
     "is_executing": true
    },
    "ExecuteTime": {
     "start_time": "2024-07-04T22:32:23.113330Z"
    }
   },
   "cell_type": "code",
   "source": "frameCt, sizes, charCt, vidList, textList = dataStats(\"A:\\Lip Reading\\Potential Datasets\\BBC LRS2\\\\trainFiles1\", progressNum=500)",
   "id": "44531f9210dd7d06",
   "outputs": [],
   "execution_count": null
  },
  {
   "metadata": {
    "ExecuteTime": {
     "end_time": "2024-07-04T22:23:32.911458Z",
     "start_time": "2024-07-04T22:23:32.897942Z"
    }
   },
   "cell_type": "code",
   "source": "printStats(frameCt, sizes, charCt, vidList, textList)",
   "id": "161be8eb337eb67d",
   "outputs": [
    {
     "name": "stdout",
     "output_type": "stream",
     "text": [
      "====================================================================================================\n",
      "====================================================================================================\n",
      "num videos: 1139\n",
      "====================================================================================================\n",
      "FRAME COUNT STATS \n",
      "\n",
      "max frame count: 154.0 , index: 300\n",
      "longest video: A:\\Lip Reading\\Potential Datasets\\BBC LRS2\\trainFiles1\\5954641443877070848_00015.mp4\n",
      "min frame count: 14.0 , index: 923\n",
      "shortest video: A:\\Lip Reading\\Potential Datasets\\BBC LRS2\\trainFiles1\\6225108419408161933_00037.mp4\n",
      "frame count frequencies: {71.0: 13, 43.0: 30, 41.0: 20, 59.0: 11, 109.0: 2, 92.0: 8, 75.0: 6, 38.0: 16, 107.0: 2, 42.0: 18, 149.0: 2, 97.0: 5, 33.0: 28, 138.0: 2, 28.0: 31, 63.0: 17, 52.0: 13, 66.0: 12, 65.0: 9, 32.0: 22, 35.0: 29, 46.0: 29, 44.0: 22, 53.0: 15, 27.0: 20, 84.0: 7, 60.0: 11, 40.0: 27, 36.0: 24, 51.0: 25, 54.0: 22, 87.0: 4, 30.0: 28, 26.0: 19, 117.0: 1, 82.0: 4, 47.0: 14, 29.0: 26, 101.0: 5, 68.0: 10, 45.0: 30, 72.0: 7, 48.0: 9, 130.0: 6, 114.0: 6, 24.0: 18, 70.0: 6, 98.0: 4, 55.0: 13, 37.0: 20, 22.0: 16, 18.0: 2, 110.0: 4, 80.0: 9, 67.0: 7, 25.0: 27, 31.0: 19, 147.0: 1, 73.0: 8, 62.0: 15, 61.0: 12, 50.0: 14, 90.0: 7, 19.0: 1, 116.0: 3, 81.0: 3, 21.0: 12, 125.0: 1, 88.0: 1, 58.0: 7, 103.0: 2, 64.0: 11, 111.0: 5, 39.0: 19, 49.0: 12, 56.0: 11, 145.0: 2, 34.0: 27, 142.0: 1, 134.0: 1, 143.0: 2, 93.0: 1, 57.0: 13, 132.0: 1, 20.0: 4, 23.0: 16, 154.0: 2, 74.0: 8, 94.0: 7, 85.0: 4, 123.0: 2, 106.0: 3, 86.0: 2, 139.0: 3, 118.0: 2, 100.0: 2, 76.0: 5, 104.0: 4, 77.0: 4, 135.0: 3, 91.0: 2, 95.0: 2, 105.0: 3, 151.0: 1, 69.0: 4, 122.0: 1, 89.0: 5, 78.0: 3, 112.0: 4, 120.0: 1, 141.0: 1, 99.0: 3, 152.0: 1, 83.0: 4, 126.0: 1, 79.0: 5, 96.0: 3, 127.0: 2, 113.0: 2, 128.0: 1, 153.0: 1, 136.0: 1, 124.0: 1, 121.0: 1, 140.0: 2, 108.0: 2, 119.0: 1, 14.0: 1, 102.0: 3, 15.0: 1}\n",
      "====================================================================================================\n",
      "====================================================================================================\n",
      "FRAME SIZE STATS \n",
      "\n",
      "max frame sizes: (160.0, 160.0) , index: 0\n",
      "largest (frame size-wise) video: A:\\Lip Reading\\Potential Datasets\\BBC LRS2\\trainFiles1\\5535415699068794046_00007.mp4\n",
      "frame shape frequencies: {(160.0, 160.0): 1139}\n",
      "====================================================================================================\n",
      "====================================================================================================\n",
      "CHAR COUNT STATS \n",
      "\n",
      "max char count: 112 , index: 247\n",
      "longest text: A:\\Lip Reading\\Potential Datasets\\BBC LRS2\\trainFiles1\\5933559167407934721_00004.txt\n",
      "min char count: 15 , index: 32\n",
      "shortest text: A:\\Lip Reading\\Potential Datasets\\BBC LRS2\\trainFiles1\\5547267231825385048_00026.txt\n",
      "char count frequencies: {45: 14, 21: 31, 38: 11, 43: 20, 64: 8, 48: 14, 26: 31, 92: 3, 37: 25, 89: 4, 33: 32, 52: 12, 17: 45, 104: 1, 16: 40, 39: 32, 32: 34, 29: 34, 27: 28, 31: 30, 36: 18, 58: 9, 24: 39, 68: 8, 25: 33, 15: 35, 62: 5, 35: 27, 72: 3, 28: 30, 67: 6, 34: 20, 23: 27, 19: 35, 46: 12, 83: 2, 22: 28, 42: 16, 49: 11, 47: 14, 71: 6, 18: 40, 60: 5, 20: 43, 70: 3, 41: 17, 75: 3, 87: 4, 99: 4, 53: 5, 93: 6, 61: 5, 40: 12, 63: 8, 57: 9, 44: 13, 30: 28, 86: 4, 59: 6, 54: 10, 98: 4, 51: 5, 69: 2, 73: 5, 95: 1, 94: 2, 112: 1, 97: 4, 90: 1, 66: 4, 65: 4, 85: 3, 76: 5, 50: 9, 84: 5, 77: 1, 79: 2, 88: 2, 55: 2, 78: 2, 103: 1, 80: 2, 56: 7, 96: 4, 91: 1, 82: 1, 74: 1}\n",
      "====================================================================================================\n",
      "====================================================================================================\n",
      "TOTAL CONTENT STATS \n",
      "\n",
      "total num of frames: 61204.0\n",
      "total num of frames used : 61204\n",
      "total hours of video: 0.6800444444444445\n",
      "total hours of video used : 0.6800444444444445\n",
      "total minutes of video: 40.80266666666667\n",
      "total minutes of video used : 40.80266666666667\n",
      "====================================================================================================\n",
      "====================================================================================================\n",
      "AVERAGE CONTENT STATS \n",
      "\n",
      "avg num of frames:  53\n",
      "avg chars per vid: 36\n",
      "most common number of frames: 28.0\n",
      "most common number of characters: 17\n",
      "====================================================================================================\n",
      "====================================================================================================\n"
     ]
    }
   ],
   "execution_count": 10
  },
  {
   "metadata": {
    "ExecuteTime": {
     "end_time": "2024-07-04T22:31:30.419354Z",
     "start_time": "2024-07-04T22:31:29.670437Z"
    }
   },
   "cell_type": "code",
   "source": "writeOutputToTXT(frameCt, sizes, charCt, vidList, textList, folderName=\"trainFiles1\", percentUsed = 1) ",
   "id": "fa57016363ffd928",
   "outputs": [
    {
     "ename": "TypeError",
     "evalue": "can only concatenate str (not \"int\") to str",
     "output_type": "error",
     "traceback": [
      "\u001B[1;31m---------------------------------------------------------------------------\u001B[0m",
      "\u001B[1;31mTypeError\u001B[0m                                 Traceback (most recent call last)",
      "Cell \u001B[1;32mIn[14], line 1\u001B[0m\n\u001B[1;32m----> 1\u001B[0m \u001B[43mwriteOutputToTXT\u001B[49m\u001B[43m(\u001B[49m\u001B[43mframeCt\u001B[49m\u001B[43m,\u001B[49m\u001B[43m \u001B[49m\u001B[43msizes\u001B[49m\u001B[43m,\u001B[49m\u001B[43m \u001B[49m\u001B[43mcharCt\u001B[49m\u001B[43m,\u001B[49m\u001B[43m \u001B[49m\u001B[43mvidList\u001B[49m\u001B[43m,\u001B[49m\u001B[43m \u001B[49m\u001B[43mtextList\u001B[49m\u001B[43m,\u001B[49m\u001B[43m \u001B[49m\u001B[43mfolderName\u001B[49m\u001B[38;5;241;43m=\u001B[39;49m\u001B[38;5;124;43m\"\u001B[39;49m\u001B[38;5;124;43mtrainFiles1\u001B[39;49m\u001B[38;5;124;43m\"\u001B[39;49m\u001B[43m,\u001B[49m\u001B[43m \u001B[49m\u001B[43mpercentUsed\u001B[49m\u001B[43m \u001B[49m\u001B[38;5;241;43m=\u001B[39;49m\u001B[43m \u001B[49m\u001B[38;5;241;43m1\u001B[39;49m\u001B[43m)\u001B[49m\n",
      "Cell \u001B[1;32mIn[13], line 77\u001B[0m, in \u001B[0;36mwriteOutputToTXT\u001B[1;34m(frameCt, sizes, charCt, vidList, textList, folderName, percentUsed)\u001B[0m\n\u001B[0;32m     75\u001B[0m \u001B[38;5;28;01mdef\u001B[39;00m \u001B[38;5;21mwriteOutputToTXT\u001B[39m(frameCt, sizes, charCt, vidList, textList, folderName, percentUsed \u001B[38;5;241m=\u001B[39m \u001B[38;5;241m1\u001B[39m): \n\u001B[1;32m---> 77\u001B[0m     fileName \u001B[38;5;241m=\u001B[39m \u001B[43mfolderName\u001B[49m\u001B[43m \u001B[49m\u001B[38;5;241;43m+\u001B[39;49m\u001B[43m \u001B[49m\u001B[38;5;124;43m\"\u001B[39;49m\u001B[38;5;124;43m_\u001B[39;49m\u001B[38;5;124;43m\"\u001B[39;49m\u001B[43m \u001B[49m\u001B[38;5;241;43m+\u001B[39;49m\u001B[43m \u001B[49m\u001B[43mpercentUsed\u001B[49m \u001B[38;5;241m+\u001B[39m \u001B[38;5;124m\"\u001B[39m\u001B[38;5;124m.txt\u001B[39m\u001B[38;5;124m\"\u001B[39m\n\u001B[0;32m     78\u001B[0m     file \u001B[38;5;241m=\u001B[39m \u001B[38;5;28mopen\u001B[39m(fileName, \u001B[38;5;124m'\u001B[39m\u001B[38;5;124mw\u001B[39m\u001B[38;5;124m'\u001B[39m)\n\u001B[0;32m     79\u001B[0m     file\u001B[38;5;241m.\u001B[39mwrite(folderName \u001B[38;5;241m+\u001B[39m \u001B[38;5;124m\"\u001B[39m\u001B[38;5;124m====\u001B[39m\u001B[38;5;124m\"\u001B[39m \u001B[38;5;241m+\u001B[39m percentUsed \u001B[38;5;241m*\u001B[39m \u001B[38;5;241m100\u001B[39m \u001B[38;5;241m+\u001B[39m \u001B[38;5;124m\"\u001B[39m\u001B[38;5;132;01m% u\u001B[39;00m\u001B[38;5;124msed\u001B[39m\u001B[38;5;124m\"\u001B[39m \u001B[38;5;241m+\u001B[39m \u001B[38;5;124m\"\u001B[39m\u001B[38;5;130;01m\\n\u001B[39;00m\u001B[38;5;124m\"\u001B[39m)\n",
      "\u001B[1;31mTypeError\u001B[0m: can only concatenate str (not \"int\") to str"
     ]
    }
   ],
   "execution_count": 14
  },
  {
   "metadata": {
    "ExecuteTime": {
     "end_time": "2024-07-04T22:23:37.409140Z",
     "start_time": "2024-07-04T22:23:35.735635Z"
    }
   },
   "cell_type": "code",
   "source": [
    "visualizeDistribution(frameCt,\"Frame Count Distribution\")\n",
    "visualizeDistribution(charCt, \"Character Count Distribution\" )"
   ],
   "id": "a31b00b2bfbda263",
   "outputs": [
    {
     "data": {
      "text/plain": [
       "<Figure size 640x480 with 1 Axes>"
      ],
      "image/png": "[encoded data removed]"
     },
     "metadata": {},
     "output_type": "display_data"
    },
    {
     "data": {
      "text/plain": [
       "<Figure size 640x480 with 1 Axes>"
      ],
      "image/png": "[encoded data removed]"
     },
     "metadata": {},
     "output_type": "display_data"
    }
   ],
   "execution_count": 11
  },
  {
   "metadata": {
    "ExecuteTime": {
     "end_time": "2024-06-27T07:42:43.894504Z",
     "start_time": "2024-06-27T07:42:43.872266Z"
    }
   },
   "cell_type": "code",
   "source": "(getFrameCount(\"A:\\v\\Lip Reading\\\\Potential Datasets\\\\BBC LRS2\\\\trainFiles\\\\5536745420943636139_00027.mp4\"))",
   "id": "9b3a93af0b54ca4e",
   "outputs": [
    {
     "data": {
      "text/plain": [
       "115.0"
      ]
     },
     "execution_count": 45,
     "metadata": {},
     "output_type": "execute_result"
    }
   ],
   "execution_count": 45
  },
  {
   "metadata": {
    "ExecuteTime": {
     "end_time": "2024-06-27T07:42:18.496560Z",
     "start_time": "2024-06-27T07:42:18.480530Z"
    }
   },
   "cell_type": "code",
   "source": [
    "cap = cv2.VideoCapture(randomDir)\n",
    "frameCount = cap.get(cv2.CAP_PROP_FRAME_COUNT)\n",
    "cap.release()\n",
    "print(frameCount)"
   ],
   "id": "a325dfdcb5c3fdae",
   "outputs": [
    {
     "name": "stdout",
     "output_type": "stream",
     "text": [
      "0.0\n"
     ]
    }
   ],
   "execution_count": 38
  },
  {
   "metadata": {
    "ExecuteTime": {
     "end_time": "2024-06-27T07:42:30.557375Z",
     "start_time": "2024-06-27T07:42:30.543859Z"
    }
   },
   "cell_type": "code",
   "source": "randomDir ",
   "id": "39bd48e78b6a5bb7",
   "outputs": [
    {
     "data": {
      "text/plain": [
       "'A:\\\\Lip Reading\\\\Potential Datasets\\\\BBC LRS2\\\\trainFiles\\\\6383993433079191521_00008.mp4'"
      ]
     },
     "execution_count": 44,
     "metadata": {},
     "output_type": "execute_result"
    }
   ],
   "execution_count": 44
  },
  {
   "metadata": {
    "ExecuteTime": {
     "end_time": "2024-07-03T05:02:36.253932Z",
     "start_time": "2024-07-03T05:02:36.196337Z"
    }
   },
   "cell_type": "code",
   "source": [
    "newDir = \"A:\\Lip Reading\\Potential Datasets\\BBC LRS2\\\\trainFiles2\" \n",
    "for subdir, dirs, files in os.walk(newDir):\n",
    "    for file in files: \n",
    "        if file.split('.')[1] == \"mp4\": \n",
    "            if os.path.isfile(os.path.join(subdir, file.split('.')[0] + \".txt\")): \n",
    "                # print(\"works\")\n",
    "                pass\n",
    "            else: \n",
    "                print(file)\n",
    "            \n",
    "        if file.split('.')[1] == \"txt\": \n",
    "            if os.path.isfile(os.path.join(subdir, file.split('.')[0] + \".mp4\")): \n",
    "                pass\n",
    "            else: \n",
    "                print(file)\n"
   ],
   "id": "dbc4af9dd4ff084f",
   "outputs": [],
   "execution_count": 142
  },
  {
   "metadata": {
    "ExecuteTime": {
     "end_time": "2024-07-03T05:02:36.378515Z",
     "start_time": "2024-07-03T05:02:36.361782Z"
    }
   },
   "cell_type": "code",
   "source": "",
   "id": "6bb9f9bb3a4ef80a",
   "outputs": [],
   "execution_count": 142
  },
  {
   "metadata": {},
   "cell_type": "code",
   "outputs": [],
   "execution_count": null,
   "source": "",
   "id": "b386a04b8622081b"
  }
 ],
 "metadata": {
  "kernelspec": {
   "display_name": "Python 3",
   "language": "python",
   "name": "python3"
  },
  "language_info": {
   "codemirror_mode": {
    "name": "ipython",
    "version": 2
   },
   "file_extension": ".py",
   "mimetype": "text/x-python",
   "name": "python",
   "nbconvert_exporter": "python",
   "pygments_lexer": "ipython2",
   "version": "2.7.6"
  }
 },
 "nbformat": 4,
 "nbformat_minor": 5
}
