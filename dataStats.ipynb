{
 "cells": [
  {
   "cell_type": "code",
   "id": "initial_id",
   "metadata": {
    "collapsed": true,
    "ExecuteTime": {
     "end_time": "2024-06-22T06:16:09.482114Z",
     "start_time": "2024-06-22T06:16:09.474604Z"
    }
   },
   "source": [
    "import tensorflow as tf \n",
    "import cv2 \n",
    "import os "
   ],
   "outputs": [],
   "execution_count": 9
  },
  {
   "metadata": {
    "ExecuteTime": {
     "end_time": "2024-06-22T06:16:09.514125Z",
     "start_time": "2024-06-22T06:16:09.484115Z"
    }
   },
   "cell_type": "code",
   "source": [
    "rootDir = 'A:\\Lip Reading\\Potential Datasets\\BBC LRS2\\\\allFiles'\n",
    "vocab = [x for x in \"ABCDEFGHIJKLMNOPQRSTUVWXYZ'?!123456789 \"]\n",
    "\n",
    "def getFrameCount(path) -> int: \n",
    "    cap = cv2.VideoCapture(path)\n",
    "    frameCount = cap.get(cv2.CAP_PROP_FRAME_COUNT)\n",
    "    cap.release()\n",
    "    return frameCount\n",
    "def getCharCount(path) -> int: \n",
    "    return len(loadText(path))\n",
    "def loadText(path): \n",
    "    # open and parse the file \n",
    "    with open(path, 'r') as file: lines = file.readlines()\n",
    "    file.close()\n",
    "    \n",
    "    # return the number equivalent of each of the characters of the word \n",
    "    tokens = []\n",
    "    words = lines[0].split()\n",
    "    del words[0]\n",
    "    for word in words: tokens = [*tokens,' ', word]\n",
    "    \n",
    "    return charToNum(tf.reshape(tf.strings.unicode_split(tokens, input_encoding='UTF-8'), (-1)))[1:]   \n",
    "charToNum = tf.keras.layers.StringLookup(vocabulary=vocab, oov_token=\"\")"
   ],
   "id": "365a3a54ec15cba",
   "outputs": [],
   "execution_count": 10
  },
  {
   "metadata": {
    "ExecuteTime": {
     "end_time": "2024-06-24T04:11:46.616168Z",
     "start_time": "2024-06-24T04:11:46.608163Z"
    }
   },
   "cell_type": "code",
   "source": [
    "# finding the max number of frames & chars in a certain video \n",
    "\n",
    "def dataStats(dir): \n",
    "    frameCt = []\n",
    "    charCt = []\n",
    "    vidList = []\n",
    "    textList = []\n",
    "    # iterating through each file in the root folder\n",
    "    for subdir, dirs, files in os.walk(dir):\n",
    "        for file in files:\n",
    "            if file.split('.')[1] == \"mp4\": \n",
    "                frameCt.append(getFrameCount(os.path.join(subdir, file)))\n",
    "                vidList.append(os.path.join(subdir, file))\n",
    "            if file.split('.')[1] == \"txt\": \n",
    "                charCt.append(getCharCount(os.path.join(subdir, file)))\n",
    "                textList.append(os.path.join(subdir, file))\n",
    "    return frameCt, charCt, vidList, textList\n",
    "        "
   ],
   "id": "c56485e2278c4dbe",
   "outputs": [],
   "execution_count": 34
  },
  {
   "metadata": {
    "ExecuteTime": {
     "end_time": "2024-06-24T04:11:47.592290Z",
     "start_time": "2024-06-24T04:11:47.571179Z"
    }
   },
   "cell_type": "code",
   "source": [
    "def mostCommon(lst):\n",
    "    return max(set(lst), key=lst.count)\n",
    "def printStats(frameCt, charCt, vidList, textList):    \n",
    "    print(\"max frame count:\", max(frameCt), \", index:\", frameCt.index(max(frameCt)))\n",
    "    print(\"longest video:\", vidList[frameCt.index(max(frameCt))])\n",
    "    print(\"max char count:\", max(charCt), \", index:\", charCt.index(max(charCt)))\n",
    "    print(\"longest text:\", textList[charCt.index(max(charCt))])\n",
    "    \n",
    "    print(\"=\" * 100)\n",
    "    \n",
    "    print(\"min frame count:\", min(frameCt), \", index:\", frameCt.index(min(frameCt)))\n",
    "    print(\"shortest video:\", vidList[frameCt.index(min(frameCt))])\n",
    "    print(\"min char count:\", min(charCt), \", index:\", charCt.index(min(charCt)))\n",
    "    print(\"shortest text:\", textList[charCt.index(min(charCt))])\n",
    "    \n",
    "    print(\"=\" * 100)\n",
    "    \n",
    "    print(\"total num of frames:\", sum(charCt))\n",
    "    print(\"avg num of frames: \", sum(frameCt)/len(frameCt))\n",
    "    print(\"avg chars per vid:\", sum(charCt)/len(charCt))\n",
    "    print(\"most common number of  frames:\", mostCommon(frameCt) )\n"
   ],
   "id": "5531a98968f6b5d1",
   "outputs": [],
   "execution_count": 35
  },
  {
   "metadata": {
    "ExecuteTime": {
     "end_time": "2024-06-24T04:13:33.277590Z",
     "start_time": "2024-06-24T04:13:33.051238Z"
    }
   },
   "cell_type": "code",
   "source": [
    "frameCt, charCt, vidList, textList = dataStats(\"A:\\Lip Reading\\Potential Datasets\\BBC LRS2\\\\trainFiles\")\n",
    "\n",
    "printStats(frameCt, charCt, vidList, textList)"
   ],
   "id": "44531f9210dd7d06",
   "outputs": [
    {
     "name": "stdout",
     "output_type": "stream",
     "text": [
      "max frame count: 115.0 , index: 4\n",
      "longest video: A:\\Lip Reading\\Potential Datasets\\BBC LRS2\\trainFiles\\5536745420943636139_00027.mp4\n",
      "max char count: 80 , index: 19\n",
      "longest text: A:\\Lip Reading\\Potential Datasets\\BBC LRS2\\trainFiles\\6383716407688597209_00035.txt\n",
      "====================================================================================================\n",
      "min frame count: 21.0 , index: 10\n",
      "shortest video: A:\\Lip Reading\\Potential Datasets\\BBC LRS2\\trainFiles\\6382974237339848372_00005.mp4\n",
      "min char count: 15 , index: 7\n",
      "shortest text: A:\\Lip Reading\\Potential Datasets\\BBC LRS2\\trainFiles\\6382931717163617970_00008.txt\n",
      "====================================================================================================\n",
      "total num of frames: 699\n",
      "avg num of frames:  47.916666666666664\n",
      "avg chars per vid: 29.125\n",
      "most common number of  frames: 24.0\n"
     ]
    }
   ],
   "execution_count": 38
  },
  {
   "metadata": {},
   "cell_type": "code",
   "outputs": [],
   "execution_count": null,
   "source": "",
   "id": "a31b00b2bfbda263"
  }
 ],
 "metadata": {
  "kernelspec": {
   "display_name": "Python 3",
   "language": "python",
   "name": "python3"
  },
  "language_info": {
   "codemirror_mode": {
    "name": "ipython",
    "version": 2
   },
   "file_extension": ".py",
   "mimetype": "text/x-python",
   "name": "python",
   "nbconvert_exporter": "python",
   "pygments_lexer": "ipython2",
   "version": "2.7.6"
  }
 },
 "nbformat": 4,
 "nbformat_minor": 5
}
